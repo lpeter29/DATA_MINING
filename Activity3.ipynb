{
 "cells": [
  {
   "cell_type": "markdown",
   "id": "48ff4b03-f197-4311-ad96-57e73eace955",
   "metadata": {},
   "source": [
    "<h1>UK ROAD ACCIDENT DATA ANALYSIS</h1>\n",
    "\n",
    "<h2>INCLUSIVE YEAR 2019 - 2022</h2>\n",
    "\n",
    "<p>ANALYST: PETER PAUL F. ECLAVEA</p>"
   ]
  },
  {
   "cell_type": "code",
   "execution_count": 1,
   "id": "268c48ba-2b9f-4419-b5aa-9f031cc0e9ba",
   "metadata": {},
   "outputs": [],
   "source": [
    "import numpy as np\n",
    "import pandas as pd\n",
    "import matplotlib.pyplot as plt\n",
    "import seaborn as sns\n",
    "from scipy.stats import f_oneway\n",
    "\n",
    "import warnings\n",
    "warnings.filterwarnings('ignore')"
   ]
  },
  {
   "cell_type": "code",
   "execution_count": 2,
   "id": "badbbfe9-55f9-41c3-a94d-1bca54a6a93e",
   "metadata": {},
   "outputs": [],
   "source": [
    "accident = pd.read_csv('datasets//accident_data.csv')"
   ]
  },
  {
   "cell_type": "code",
   "execution_count": 3,
   "id": "beab572a-5367-47c1-8390-e840201f1cab",
   "metadata": {
    "scrolled": true
   },
   "outputs": [
    {
     "data": {
      "text/html": [
       "<div>\n",
       "<style scoped>\n",
       "    .dataframe tbody tr th:only-of-type {\n",
       "        vertical-align: middle;\n",
       "    }\n",
       "\n",
       "    .dataframe tbody tr th {\n",
       "        vertical-align: top;\n",
       "    }\n",
       "\n",
       "    .dataframe thead th {\n",
       "        text-align: right;\n",
       "    }\n",
       "</style>\n",
       "<table border=\"1\" class=\"dataframe\">\n",
       "  <thead>\n",
       "    <tr style=\"text-align: right;\">\n",
       "      <th></th>\n",
       "      <th>Index</th>\n",
       "      <th>Accident_Severity</th>\n",
       "      <th>Accident Date</th>\n",
       "      <th>Latitude</th>\n",
       "      <th>Light_Conditions</th>\n",
       "      <th>District Area</th>\n",
       "      <th>Longitude</th>\n",
       "      <th>Number_of_Casualties</th>\n",
       "      <th>Number_of_Vehicles</th>\n",
       "      <th>Road_Surface_Conditions</th>\n",
       "      <th>Road_Type</th>\n",
       "      <th>Urban_or_Rural_Area</th>\n",
       "      <th>Weather_Conditions</th>\n",
       "      <th>Vehicle_Type</th>\n",
       "    </tr>\n",
       "  </thead>\n",
       "  <tbody>\n",
       "    <tr>\n",
       "      <th>0</th>\n",
       "      <td>200701BS64157</td>\n",
       "      <td>Serious</td>\n",
       "      <td>05/06/2019</td>\n",
       "      <td>51.506187</td>\n",
       "      <td>Darkness - lights lit</td>\n",
       "      <td>Kensington and Chelsea</td>\n",
       "      <td>-0.209082</td>\n",
       "      <td>1</td>\n",
       "      <td>2</td>\n",
       "      <td>Dry</td>\n",
       "      <td>Single carriageway</td>\n",
       "      <td>Urban</td>\n",
       "      <td>Fine no high winds</td>\n",
       "      <td>Car</td>\n",
       "    </tr>\n",
       "    <tr>\n",
       "      <th>1</th>\n",
       "      <td>200701BS65737</td>\n",
       "      <td>Serious</td>\n",
       "      <td>02/07/2019</td>\n",
       "      <td>51.495029</td>\n",
       "      <td>Daylight</td>\n",
       "      <td>Kensington and Chelsea</td>\n",
       "      <td>-0.173647</td>\n",
       "      <td>1</td>\n",
       "      <td>2</td>\n",
       "      <td>Wet or damp</td>\n",
       "      <td>Single carriageway</td>\n",
       "      <td>Urban</td>\n",
       "      <td>Raining no high winds</td>\n",
       "      <td>Car</td>\n",
       "    </tr>\n",
       "    <tr>\n",
       "      <th>2</th>\n",
       "      <td>200701BS66127</td>\n",
       "      <td>Serious</td>\n",
       "      <td>26/08/2019</td>\n",
       "      <td>51.517715</td>\n",
       "      <td>Darkness - lighting unknown</td>\n",
       "      <td>Kensington and Chelsea</td>\n",
       "      <td>-0.210215</td>\n",
       "      <td>1</td>\n",
       "      <td>3</td>\n",
       "      <td>Dry</td>\n",
       "      <td>NaN</td>\n",
       "      <td>Urban</td>\n",
       "      <td>NaN</td>\n",
       "      <td>Taxi/Private hire car</td>\n",
       "    </tr>\n",
       "    <tr>\n",
       "      <th>3</th>\n",
       "      <td>200701BS66128</td>\n",
       "      <td>Serious</td>\n",
       "      <td>16/08/2019</td>\n",
       "      <td>51.495478</td>\n",
       "      <td>Daylight</td>\n",
       "      <td>Kensington and Chelsea</td>\n",
       "      <td>-0.202731</td>\n",
       "      <td>1</td>\n",
       "      <td>4</td>\n",
       "      <td>Dry</td>\n",
       "      <td>Single carriageway</td>\n",
       "      <td>Urban</td>\n",
       "      <td>Fine no high winds</td>\n",
       "      <td>Bus or coach (17 or more pass seats)</td>\n",
       "    </tr>\n",
       "    <tr>\n",
       "      <th>4</th>\n",
       "      <td>200701BS66837</td>\n",
       "      <td>Slight</td>\n",
       "      <td>03/09/2019</td>\n",
       "      <td>51.488576</td>\n",
       "      <td>Darkness - lights lit</td>\n",
       "      <td>Kensington and Chelsea</td>\n",
       "      <td>-0.192487</td>\n",
       "      <td>1</td>\n",
       "      <td>2</td>\n",
       "      <td>Dry</td>\n",
       "      <td>NaN</td>\n",
       "      <td>Urban</td>\n",
       "      <td>NaN</td>\n",
       "      <td>Other vehicle</td>\n",
       "    </tr>\n",
       "    <tr>\n",
       "      <th>...</th>\n",
       "      <td>...</td>\n",
       "      <td>...</td>\n",
       "      <td>...</td>\n",
       "      <td>...</td>\n",
       "      <td>...</td>\n",
       "      <td>...</td>\n",
       "      <td>...</td>\n",
       "      <td>...</td>\n",
       "      <td>...</td>\n",
       "      <td>...</td>\n",
       "      <td>...</td>\n",
       "      <td>...</td>\n",
       "      <td>...</td>\n",
       "      <td>...</td>\n",
       "    </tr>\n",
       "    <tr>\n",
       "      <th>660674</th>\n",
       "      <td>201091NM01760</td>\n",
       "      <td>Slight</td>\n",
       "      <td>18/02/2022</td>\n",
       "      <td>57.374005</td>\n",
       "      <td>Daylight</td>\n",
       "      <td>Highland</td>\n",
       "      <td>-3.467828</td>\n",
       "      <td>2</td>\n",
       "      <td>1</td>\n",
       "      <td>Dry</td>\n",
       "      <td>Single carriageway</td>\n",
       "      <td>Rural</td>\n",
       "      <td>Fine no high winds</td>\n",
       "      <td>Car</td>\n",
       "    </tr>\n",
       "    <tr>\n",
       "      <th>660675</th>\n",
       "      <td>201091NM01881</td>\n",
       "      <td>Slight</td>\n",
       "      <td>21/02/2022</td>\n",
       "      <td>57.232273</td>\n",
       "      <td>Darkness - no lighting</td>\n",
       "      <td>Highland</td>\n",
       "      <td>-3.809281</td>\n",
       "      <td>1</td>\n",
       "      <td>1</td>\n",
       "      <td>Frost or ice</td>\n",
       "      <td>Single carriageway</td>\n",
       "      <td>Rural</td>\n",
       "      <td>Fine no high winds</td>\n",
       "      <td>Car</td>\n",
       "    </tr>\n",
       "    <tr>\n",
       "      <th>660676</th>\n",
       "      <td>201091NM01935</td>\n",
       "      <td>Slight</td>\n",
       "      <td>23/02/2022</td>\n",
       "      <td>57.585044</td>\n",
       "      <td>Daylight</td>\n",
       "      <td>Highland</td>\n",
       "      <td>-3.862727</td>\n",
       "      <td>1</td>\n",
       "      <td>3</td>\n",
       "      <td>Frost or ice</td>\n",
       "      <td>Single carriageway</td>\n",
       "      <td>Rural</td>\n",
       "      <td>Fine no high winds</td>\n",
       "      <td>Car</td>\n",
       "    </tr>\n",
       "    <tr>\n",
       "      <th>660677</th>\n",
       "      <td>201091NM01964</td>\n",
       "      <td>Serious</td>\n",
       "      <td>23/02/2022</td>\n",
       "      <td>57.214898</td>\n",
       "      <td>Darkness - no lighting</td>\n",
       "      <td>Highland</td>\n",
       "      <td>-3.823997</td>\n",
       "      <td>1</td>\n",
       "      <td>2</td>\n",
       "      <td>Wet or damp</td>\n",
       "      <td>Single carriageway</td>\n",
       "      <td>Rural</td>\n",
       "      <td>Fine no high winds</td>\n",
       "      <td>Motorcycle over 500cc</td>\n",
       "    </tr>\n",
       "    <tr>\n",
       "      <th>660678</th>\n",
       "      <td>201091NM02142</td>\n",
       "      <td>Serious</td>\n",
       "      <td>28/02/2022</td>\n",
       "      <td>57.575210</td>\n",
       "      <td>Daylight</td>\n",
       "      <td>Highland</td>\n",
       "      <td>-3.895673</td>\n",
       "      <td>1</td>\n",
       "      <td>1</td>\n",
       "      <td>Wet or damp</td>\n",
       "      <td>Dual carriageway</td>\n",
       "      <td>Rural</td>\n",
       "      <td>Snowing no high winds</td>\n",
       "      <td>Car</td>\n",
       "    </tr>\n",
       "  </tbody>\n",
       "</table>\n",
       "<p>660679 rows × 14 columns</p>\n",
       "</div>"
      ],
      "text/plain": [
       "                Index Accident_Severity Accident Date   Latitude  \\\n",
       "0       200701BS64157           Serious    05/06/2019  51.506187   \n",
       "1       200701BS65737           Serious    02/07/2019  51.495029   \n",
       "2       200701BS66127           Serious    26/08/2019  51.517715   \n",
       "3       200701BS66128           Serious    16/08/2019  51.495478   \n",
       "4       200701BS66837            Slight    03/09/2019  51.488576   \n",
       "...               ...               ...           ...        ...   \n",
       "660674  201091NM01760            Slight    18/02/2022  57.374005   \n",
       "660675  201091NM01881            Slight    21/02/2022  57.232273   \n",
       "660676  201091NM01935            Slight    23/02/2022  57.585044   \n",
       "660677  201091NM01964           Serious    23/02/2022  57.214898   \n",
       "660678  201091NM02142           Serious    28/02/2022  57.575210   \n",
       "\n",
       "                   Light_Conditions           District Area  Longitude  \\\n",
       "0             Darkness - lights lit  Kensington and Chelsea  -0.209082   \n",
       "1                          Daylight  Kensington and Chelsea  -0.173647   \n",
       "2       Darkness - lighting unknown  Kensington and Chelsea  -0.210215   \n",
       "3                          Daylight  Kensington and Chelsea  -0.202731   \n",
       "4             Darkness - lights lit  Kensington and Chelsea  -0.192487   \n",
       "...                             ...                     ...        ...   \n",
       "660674                     Daylight                Highland  -3.467828   \n",
       "660675       Darkness - no lighting                Highland  -3.809281   \n",
       "660676                     Daylight                Highland  -3.862727   \n",
       "660677       Darkness - no lighting                Highland  -3.823997   \n",
       "660678                     Daylight                Highland  -3.895673   \n",
       "\n",
       "        Number_of_Casualties  Number_of_Vehicles Road_Surface_Conditions  \\\n",
       "0                          1                   2                     Dry   \n",
       "1                          1                   2             Wet or damp   \n",
       "2                          1                   3                     Dry   \n",
       "3                          1                   4                     Dry   \n",
       "4                          1                   2                     Dry   \n",
       "...                      ...                 ...                     ...   \n",
       "660674                     2                   1                     Dry   \n",
       "660675                     1                   1            Frost or ice   \n",
       "660676                     1                   3            Frost or ice   \n",
       "660677                     1                   2             Wet or damp   \n",
       "660678                     1                   1             Wet or damp   \n",
       "\n",
       "                 Road_Type Urban_or_Rural_Area     Weather_Conditions  \\\n",
       "0       Single carriageway               Urban     Fine no high winds   \n",
       "1       Single carriageway               Urban  Raining no high winds   \n",
       "2                      NaN               Urban                    NaN   \n",
       "3       Single carriageway               Urban     Fine no high winds   \n",
       "4                      NaN               Urban                    NaN   \n",
       "...                    ...                 ...                    ...   \n",
       "660674  Single carriageway               Rural     Fine no high winds   \n",
       "660675  Single carriageway               Rural     Fine no high winds   \n",
       "660676  Single carriageway               Rural     Fine no high winds   \n",
       "660677  Single carriageway               Rural     Fine no high winds   \n",
       "660678    Dual carriageway               Rural  Snowing no high winds   \n",
       "\n",
       "                                Vehicle_Type  \n",
       "0                                        Car  \n",
       "1                                        Car  \n",
       "2                      Taxi/Private hire car  \n",
       "3       Bus or coach (17 or more pass seats)  \n",
       "4                              Other vehicle  \n",
       "...                                      ...  \n",
       "660674                                   Car  \n",
       "660675                                   Car  \n",
       "660676                                   Car  \n",
       "660677                 Motorcycle over 500cc  \n",
       "660678                                   Car  \n",
       "\n",
       "[660679 rows x 14 columns]"
      ]
     },
     "execution_count": 3,
     "metadata": {},
     "output_type": "execute_result"
    }
   ],
   "source": [
    "accident"
   ]
  },
  {
   "cell_type": "code",
   "execution_count": 4,
   "id": "f29a78d1-437b-43fd-ac9c-1d632e0b6ad5",
   "metadata": {},
   "outputs": [
    {
     "data": {
      "text/html": [
       "<div>\n",
       "<style scoped>\n",
       "    .dataframe tbody tr th:only-of-type {\n",
       "        vertical-align: middle;\n",
       "    }\n",
       "\n",
       "    .dataframe tbody tr th {\n",
       "        vertical-align: top;\n",
       "    }\n",
       "\n",
       "    .dataframe thead th {\n",
       "        text-align: right;\n",
       "    }\n",
       "</style>\n",
       "<table border=\"1\" class=\"dataframe\">\n",
       "  <thead>\n",
       "    <tr style=\"text-align: right;\">\n",
       "      <th></th>\n",
       "      <th>Index</th>\n",
       "      <th>Accident_Severity</th>\n",
       "      <th>Accident Date</th>\n",
       "      <th>Latitude</th>\n",
       "      <th>Light_Conditions</th>\n",
       "      <th>District Area</th>\n",
       "      <th>Longitude</th>\n",
       "      <th>Number_of_Casualties</th>\n",
       "      <th>Number_of_Vehicles</th>\n",
       "      <th>Road_Surface_Conditions</th>\n",
       "      <th>Road_Type</th>\n",
       "      <th>Urban_or_Rural_Area</th>\n",
       "      <th>Weather_Conditions</th>\n",
       "      <th>Vehicle_Type</th>\n",
       "    </tr>\n",
       "  </thead>\n",
       "  <tbody>\n",
       "    <tr>\n",
       "      <th>0</th>\n",
       "      <td>200701BS64157</td>\n",
       "      <td>Serious</td>\n",
       "      <td>05/06/2019</td>\n",
       "      <td>51.506187</td>\n",
       "      <td>Darkness - lights lit</td>\n",
       "      <td>Kensington and Chelsea</td>\n",
       "      <td>-0.209082</td>\n",
       "      <td>1</td>\n",
       "      <td>2</td>\n",
       "      <td>Dry</td>\n",
       "      <td>Single carriageway</td>\n",
       "      <td>Urban</td>\n",
       "      <td>Fine no high winds</td>\n",
       "      <td>Car</td>\n",
       "    </tr>\n",
       "    <tr>\n",
       "      <th>1</th>\n",
       "      <td>200701BS65737</td>\n",
       "      <td>Serious</td>\n",
       "      <td>02/07/2019</td>\n",
       "      <td>51.495029</td>\n",
       "      <td>Daylight</td>\n",
       "      <td>Kensington and Chelsea</td>\n",
       "      <td>-0.173647</td>\n",
       "      <td>1</td>\n",
       "      <td>2</td>\n",
       "      <td>Wet or damp</td>\n",
       "      <td>Single carriageway</td>\n",
       "      <td>Urban</td>\n",
       "      <td>Raining no high winds</td>\n",
       "      <td>Car</td>\n",
       "    </tr>\n",
       "    <tr>\n",
       "      <th>2</th>\n",
       "      <td>200701BS66127</td>\n",
       "      <td>Serious</td>\n",
       "      <td>26/08/2019</td>\n",
       "      <td>51.517715</td>\n",
       "      <td>Darkness - lighting unknown</td>\n",
       "      <td>Kensington and Chelsea</td>\n",
       "      <td>-0.210215</td>\n",
       "      <td>1</td>\n",
       "      <td>3</td>\n",
       "      <td>Dry</td>\n",
       "      <td>NaN</td>\n",
       "      <td>Urban</td>\n",
       "      <td>NaN</td>\n",
       "      <td>Taxi/Private hire car</td>\n",
       "    </tr>\n",
       "    <tr>\n",
       "      <th>3</th>\n",
       "      <td>200701BS66128</td>\n",
       "      <td>Serious</td>\n",
       "      <td>16/08/2019</td>\n",
       "      <td>51.495478</td>\n",
       "      <td>Daylight</td>\n",
       "      <td>Kensington and Chelsea</td>\n",
       "      <td>-0.202731</td>\n",
       "      <td>1</td>\n",
       "      <td>4</td>\n",
       "      <td>Dry</td>\n",
       "      <td>Single carriageway</td>\n",
       "      <td>Urban</td>\n",
       "      <td>Fine no high winds</td>\n",
       "      <td>Bus or coach (17 or more pass seats)</td>\n",
       "    </tr>\n",
       "    <tr>\n",
       "      <th>4</th>\n",
       "      <td>200701BS66837</td>\n",
       "      <td>Slight</td>\n",
       "      <td>03/09/2019</td>\n",
       "      <td>51.488576</td>\n",
       "      <td>Darkness - lights lit</td>\n",
       "      <td>Kensington and Chelsea</td>\n",
       "      <td>-0.192487</td>\n",
       "      <td>1</td>\n",
       "      <td>2</td>\n",
       "      <td>Dry</td>\n",
       "      <td>NaN</td>\n",
       "      <td>Urban</td>\n",
       "      <td>NaN</td>\n",
       "      <td>Other vehicle</td>\n",
       "    </tr>\n",
       "    <tr>\n",
       "      <th>...</th>\n",
       "      <td>...</td>\n",
       "      <td>...</td>\n",
       "      <td>...</td>\n",
       "      <td>...</td>\n",
       "      <td>...</td>\n",
       "      <td>...</td>\n",
       "      <td>...</td>\n",
       "      <td>...</td>\n",
       "      <td>...</td>\n",
       "      <td>...</td>\n",
       "      <td>...</td>\n",
       "      <td>...</td>\n",
       "      <td>...</td>\n",
       "      <td>...</td>\n",
       "    </tr>\n",
       "    <tr>\n",
       "      <th>533088</th>\n",
       "      <td>201001TB00796</td>\n",
       "      <td>Slight</td>\n",
       "      <td>14/11/2022</td>\n",
       "      <td>51.489306</td>\n",
       "      <td>Darkness - lights lit</td>\n",
       "      <td>Kensington and Chelsea</td>\n",
       "      <td>-0.175749</td>\n",
       "      <td>2</td>\n",
       "      <td>2</td>\n",
       "      <td>Wet or damp</td>\n",
       "      <td>Single carriageway</td>\n",
       "      <td>Urban</td>\n",
       "      <td>Fine no high winds</td>\n",
       "      <td>Van / Goods 3.5 tonnes mgw or under</td>\n",
       "    </tr>\n",
       "    <tr>\n",
       "      <th>533316</th>\n",
       "      <td>201001TE00005</td>\n",
       "      <td>Serious</td>\n",
       "      <td>17/01/2022</td>\n",
       "      <td>51.520998</td>\n",
       "      <td>Daylight</td>\n",
       "      <td>Kensington and Chelsea</td>\n",
       "      <td>-0.213258</td>\n",
       "      <td>1</td>\n",
       "      <td>1</td>\n",
       "      <td>Dry</td>\n",
       "      <td>Single carriageway</td>\n",
       "      <td>Urban</td>\n",
       "      <td>Fine no high winds</td>\n",
       "      <td>Car</td>\n",
       "    </tr>\n",
       "    <tr>\n",
       "      <th>533327</th>\n",
       "      <td>201001TE00016</td>\n",
       "      <td>Serious</td>\n",
       "      <td>02/02/2022</td>\n",
       "      <td>51.497193</td>\n",
       "      <td>Daylight</td>\n",
       "      <td>Kensington and Chelsea</td>\n",
       "      <td>-0.168230</td>\n",
       "      <td>1</td>\n",
       "      <td>2</td>\n",
       "      <td>Wet or damp</td>\n",
       "      <td>Dual carriageway</td>\n",
       "      <td>Urban</td>\n",
       "      <td>Raining no high winds</td>\n",
       "      <td>Car</td>\n",
       "    </tr>\n",
       "    <tr>\n",
       "      <th>533337</th>\n",
       "      <td>201001TE00029</td>\n",
       "      <td>Serious</td>\n",
       "      <td>12/03/2022</td>\n",
       "      <td>51.480287</td>\n",
       "      <td>Darkness - lights lit</td>\n",
       "      <td>Kensington and Chelsea</td>\n",
       "      <td>-0.185614</td>\n",
       "      <td>1</td>\n",
       "      <td>1</td>\n",
       "      <td>Dry</td>\n",
       "      <td>Single carriageway</td>\n",
       "      <td>Urban</td>\n",
       "      <td>Fine no high winds</td>\n",
       "      <td>Motorcycle over 500cc</td>\n",
       "    </tr>\n",
       "    <tr>\n",
       "      <th>533342</th>\n",
       "      <td>201001TE00038</td>\n",
       "      <td>Slight</td>\n",
       "      <td>24/03/2022</td>\n",
       "      <td>51.492639</td>\n",
       "      <td>Darkness - lights lit</td>\n",
       "      <td>Kensington and Chelsea</td>\n",
       "      <td>-0.187716</td>\n",
       "      <td>1</td>\n",
       "      <td>2</td>\n",
       "      <td>Wet or damp</td>\n",
       "      <td>Roundabout</td>\n",
       "      <td>Urban</td>\n",
       "      <td>Raining no high winds</td>\n",
       "      <td>Car</td>\n",
       "    </tr>\n",
       "  </tbody>\n",
       "</table>\n",
       "<p>2799 rows × 14 columns</p>\n",
       "</div>"
      ],
      "text/plain": [
       "                Index Accident_Severity Accident Date   Latitude  \\\n",
       "0       200701BS64157           Serious    05/06/2019  51.506187   \n",
       "1       200701BS65737           Serious    02/07/2019  51.495029   \n",
       "2       200701BS66127           Serious    26/08/2019  51.517715   \n",
       "3       200701BS66128           Serious    16/08/2019  51.495478   \n",
       "4       200701BS66837            Slight    03/09/2019  51.488576   \n",
       "...               ...               ...           ...        ...   \n",
       "533088  201001TB00796            Slight    14/11/2022  51.489306   \n",
       "533316  201001TE00005           Serious    17/01/2022  51.520998   \n",
       "533327  201001TE00016           Serious    02/02/2022  51.497193   \n",
       "533337  201001TE00029           Serious    12/03/2022  51.480287   \n",
       "533342  201001TE00038            Slight    24/03/2022  51.492639   \n",
       "\n",
       "                   Light_Conditions           District Area  Longitude  \\\n",
       "0             Darkness - lights lit  Kensington and Chelsea  -0.209082   \n",
       "1                          Daylight  Kensington and Chelsea  -0.173647   \n",
       "2       Darkness - lighting unknown  Kensington and Chelsea  -0.210215   \n",
       "3                          Daylight  Kensington and Chelsea  -0.202731   \n",
       "4             Darkness - lights lit  Kensington and Chelsea  -0.192487   \n",
       "...                             ...                     ...        ...   \n",
       "533088        Darkness - lights lit  Kensington and Chelsea  -0.175749   \n",
       "533316                     Daylight  Kensington and Chelsea  -0.213258   \n",
       "533327                     Daylight  Kensington and Chelsea  -0.168230   \n",
       "533337        Darkness - lights lit  Kensington and Chelsea  -0.185614   \n",
       "533342        Darkness - lights lit  Kensington and Chelsea  -0.187716   \n",
       "\n",
       "        Number_of_Casualties  Number_of_Vehicles Road_Surface_Conditions  \\\n",
       "0                          1                   2                     Dry   \n",
       "1                          1                   2             Wet or damp   \n",
       "2                          1                   3                     Dry   \n",
       "3                          1                   4                     Dry   \n",
       "4                          1                   2                     Dry   \n",
       "...                      ...                 ...                     ...   \n",
       "533088                     2                   2             Wet or damp   \n",
       "533316                     1                   1                     Dry   \n",
       "533327                     1                   2             Wet or damp   \n",
       "533337                     1                   1                     Dry   \n",
       "533342                     1                   2             Wet or damp   \n",
       "\n",
       "                 Road_Type Urban_or_Rural_Area     Weather_Conditions  \\\n",
       "0       Single carriageway               Urban     Fine no high winds   \n",
       "1       Single carriageway               Urban  Raining no high winds   \n",
       "2                      NaN               Urban                    NaN   \n",
       "3       Single carriageway               Urban     Fine no high winds   \n",
       "4                      NaN               Urban                    NaN   \n",
       "...                    ...                 ...                    ...   \n",
       "533088  Single carriageway               Urban     Fine no high winds   \n",
       "533316  Single carriageway               Urban     Fine no high winds   \n",
       "533327    Dual carriageway               Urban  Raining no high winds   \n",
       "533337  Single carriageway               Urban     Fine no high winds   \n",
       "533342          Roundabout               Urban  Raining no high winds   \n",
       "\n",
       "                                Vehicle_Type  \n",
       "0                                        Car  \n",
       "1                                        Car  \n",
       "2                      Taxi/Private hire car  \n",
       "3       Bus or coach (17 or more pass seats)  \n",
       "4                              Other vehicle  \n",
       "...                                      ...  \n",
       "533088   Van / Goods 3.5 tonnes mgw or under  \n",
       "533316                                   Car  \n",
       "533327                                   Car  \n",
       "533337                 Motorcycle over 500cc  \n",
       "533342                                   Car  \n",
       "\n",
       "[2799 rows x 14 columns]"
      ]
     },
     "execution_count": 4,
     "metadata": {},
     "output_type": "execute_result"
    }
   ],
   "source": [
    "accident[accident['District Area'] == 'Kensington and Chelsea']"
   ]
  },
  {
   "cell_type": "code",
   "execution_count": 5,
   "id": "8ea90981-3da4-4676-a359-ce0ab6235b9d",
   "metadata": {},
   "outputs": [
    {
     "data": {
      "text/plain": [
       "Urban_or_Rural_Area\n",
       "Urban          421663\n",
       "Rural          238990\n",
       "Unallocated        11\n",
       "Name: count, dtype: int64"
      ]
     },
     "execution_count": 5,
     "metadata": {},
     "output_type": "execute_result"
    }
   ],
   "source": [
    "accident['Urban_or_Rural_Area'].value_counts()"
   ]
  },
  {
   "cell_type": "code",
   "execution_count": 6,
   "id": "398b9a5c-2254-44e3-af19-250727be643f",
   "metadata": {},
   "outputs": [
    {
     "data": {
      "text/plain": [
       "Index                          0\n",
       "Accident_Severity              0\n",
       "Accident Date                  0\n",
       "Latitude                      25\n",
       "Light_Conditions               0\n",
       "District Area                  0\n",
       "Longitude                     26\n",
       "Number_of_Casualties           0\n",
       "Number_of_Vehicles             0\n",
       "Road_Surface_Conditions      726\n",
       "Road_Type                   4520\n",
       "Urban_or_Rural_Area           15\n",
       "Weather_Conditions         14128\n",
       "Vehicle_Type                   0\n",
       "dtype: int64"
      ]
     },
     "execution_count": 6,
     "metadata": {},
     "output_type": "execute_result"
    }
   ],
   "source": [
    "accident.isnull().sum()"
   ]
  },
  {
   "cell_type": "code",
   "execution_count": 7,
   "id": "ab10f9a3-4e79-477f-81f1-fec65905a5e7",
   "metadata": {},
   "outputs": [
    {
     "data": {
      "text/plain": [
       "Index                       object\n",
       "Accident_Severity           object\n",
       "Accident Date               object\n",
       "Latitude                   float64\n",
       "Light_Conditions            object\n",
       "District Area               object\n",
       "Longitude                  float64\n",
       "Number_of_Casualties         int64\n",
       "Number_of_Vehicles           int64\n",
       "Road_Surface_Conditions     object\n",
       "Road_Type                   object\n",
       "Urban_or_Rural_Area         object\n",
       "Weather_Conditions          object\n",
       "Vehicle_Type                object\n",
       "dtype: object"
      ]
     },
     "execution_count": 7,
     "metadata": {},
     "output_type": "execute_result"
    }
   ],
   "source": [
    "accident.dtypes"
   ]
  },
  {
   "cell_type": "markdown",
   "id": "620a3eb0-25a0-47bb-a3d1-11df84f4efef",
   "metadata": {},
   "source": [
    "<h1>Filling the missing data using fillna</h1>"
   ]
  },
  {
   "cell_type": "code",
   "execution_count": 8,
   "id": "240ef682-823b-448d-af42-66f1655cb0b0",
   "metadata": {},
   "outputs": [],
   "source": [
    "accident['Latitude'] = accident['Latitude'].fillna('unknown')"
   ]
  },
  {
   "cell_type": "code",
   "execution_count": 9,
   "id": "0e88c952-8079-45d3-8772-6c3fc155a7d3",
   "metadata": {},
   "outputs": [],
   "source": [
    "accident['Longitude'] = accident['Longitude'].fillna('unknown')"
   ]
  },
  {
   "cell_type": "code",
   "execution_count": 10,
   "id": "7dcf5fa2-a915-4b9c-8f92-66a5f445d6af",
   "metadata": {},
   "outputs": [],
   "source": [
    "accident['Road_Surface_Conditions'] = accident['Road_Surface_Conditions'].fillna('unknown')"
   ]
  },
  {
   "cell_type": "code",
   "execution_count": 11,
   "id": "9934e72e-de4a-4cd2-9f36-c955b8e9a03d",
   "metadata": {},
   "outputs": [],
   "source": [
    "accident['Road_Type'] = accident['Road_Type'].fillna('unknown')"
   ]
  },
  {
   "cell_type": "code",
   "execution_count": 12,
   "id": "f2211347-9290-4b86-adc9-84311b3c30b4",
   "metadata": {},
   "outputs": [],
   "source": [
    "accident['Urban_or_Rural_Area'] = accident['Urban_or_Rural_Area'].fillna('unknown')"
   ]
  },
  {
   "cell_type": "code",
   "execution_count": 13,
   "id": "cead8715-1fac-4684-a741-a77002e98abc",
   "metadata": {},
   "outputs": [],
   "source": [
    "accident['Weather_Conditions'] = accident['Weather_Conditions'].fillna('unknown')"
   ]
  },
  {
   "cell_type": "markdown",
   "id": "4fd749cb-2388-4b54-a6b7-d268976e8e61",
   "metadata": {},
   "source": [
    "<h1>Changing data types into proper ones</h1>"
   ]
  },
  {
   "cell_type": "code",
   "execution_count": 14,
   "id": "e11bd54f-dce3-476c-b3ef-5261e17b5df6",
   "metadata": {},
   "outputs": [],
   "source": [
    "accident['Latitude'] = accident['Latitude'].astype('category')"
   ]
  },
  {
   "cell_type": "code",
   "execution_count": 15,
   "id": "6b54dabb-28df-495d-8726-4b11dad67f1f",
   "metadata": {},
   "outputs": [],
   "source": [
    "accident['Longitude'] = accident['Longitude'].astype('category')"
   ]
  },
  {
   "cell_type": "code",
   "execution_count": 16,
   "id": "3fa809d3-e508-4210-856d-4794563eebf3",
   "metadata": {},
   "outputs": [],
   "source": [
    "accident['Accident_Severity'] = accident['Accident_Severity'].astype('category')"
   ]
  },
  {
   "cell_type": "code",
   "execution_count": 17,
   "id": "de97b806-d945-4823-ae1c-6cb9efcdbc78",
   "metadata": {},
   "outputs": [],
   "source": [
    "accident['Light_Conditions'] = accident['Light_Conditions'].astype('category')"
   ]
  },
  {
   "cell_type": "code",
   "execution_count": 18,
   "id": "f69ab8b5-6c5a-4b86-86e5-7769837e41d8",
   "metadata": {},
   "outputs": [],
   "source": [
    "accident['District Area'] = accident['District Area'].astype('category')"
   ]
  },
  {
   "cell_type": "code",
   "execution_count": 19,
   "id": "bc3ab45c-ee70-4a76-ad92-b0a8530ce881",
   "metadata": {},
   "outputs": [],
   "source": [
    "accident['Road_Surface_Conditions'] = accident['Road_Surface_Conditions'].astype('category')"
   ]
  },
  {
   "cell_type": "code",
   "execution_count": 20,
   "id": "50ee2da1-f248-42ae-a6b1-144031357a72",
   "metadata": {},
   "outputs": [],
   "source": [
    "accident['Road_Type'] = accident['Road_Type'].astype('category')"
   ]
  },
  {
   "cell_type": "code",
   "execution_count": 21,
   "id": "b9f335b7-3a0f-4564-8561-926f3f10e6b2",
   "metadata": {},
   "outputs": [],
   "source": [
    "accident['Urban_or_Rural_Area'] = accident['Urban_or_Rural_Area'].astype('category')"
   ]
  },
  {
   "cell_type": "code",
   "execution_count": 22,
   "id": "fd6b623a-28b3-458a-87f6-b19e0f14d6c2",
   "metadata": {},
   "outputs": [],
   "source": [
    "accident['Vehicle_Type'] = accident['Vehicle_Type'].astype('category')"
   ]
  },
  {
   "cell_type": "code",
   "execution_count": 23,
   "id": "35ae75a0-8510-4abc-948a-a542d1b002fb",
   "metadata": {},
   "outputs": [],
   "source": [
    "accident['Weather_Conditions'] = accident['Weather_Conditions'].astype('category')"
   ]
  },
  {
   "cell_type": "markdown",
   "id": "ca51c941-7de1-4059-9d8d-4918ad90ea33",
   "metadata": {},
   "source": [
    "<h1>Converting Date Field into DATE TIME data type</h1>"
   ]
  },
  {
   "cell_type": "code",
   "execution_count": 24,
   "id": "c59ffec1-15a1-4267-a50b-30b108cc5a05",
   "metadata": {},
   "outputs": [],
   "source": [
    "accident['Accident Date'] = accident['Accident Date'].astype('str')\n",
    "accident.dtypes\n",
    "#remove spaces like 20 / 02 / 2025\n",
    "accident['Accident Date'] = accident['Accident Date'].str.strip()\n",
    "#replace / with -\n",
    "accident['Accident Date'] = accident['Accident Date'].str.replace('/', '-')"
   ]
  },
  {
   "cell_type": "code",
   "execution_count": 25,
   "id": "6315b345-4b65-4c6c-b61a-a23b5b29203d",
   "metadata": {},
   "outputs": [],
   "source": [
    "accident['Accident Date'] = pd.to_datetime(accident['Accident Date'], dayfirst = True, errors = 'coerce')"
   ]
  },
  {
   "cell_type": "markdown",
   "id": "51334c61-ddd6-496b-819e-41dc0e6140f9",
   "metadata": {},
   "source": [
    "<h1>Checking if there is still a null value</h1>"
   ]
  },
  {
   "cell_type": "code",
   "execution_count": 26,
   "id": "f91a55a1-5d67-4836-a591-ed6c04dae8b1",
   "metadata": {},
   "outputs": [
    {
     "data": {
      "text/plain": [
       "Index                      0\n",
       "Accident_Severity          0\n",
       "Accident Date              0\n",
       "Latitude                   0\n",
       "Light_Conditions           0\n",
       "District Area              0\n",
       "Longitude                  0\n",
       "Number_of_Casualties       0\n",
       "Number_of_Vehicles         0\n",
       "Road_Surface_Conditions    0\n",
       "Road_Type                  0\n",
       "Urban_or_Rural_Area        0\n",
       "Weather_Conditions         0\n",
       "Vehicle_Type               0\n",
       "dtype: int64"
      ]
     },
     "execution_count": 26,
     "metadata": {},
     "output_type": "execute_result"
    }
   ],
   "source": [
    "accident.isnull().sum()"
   ]
  },
  {
   "cell_type": "markdown",
   "id": "8e234767-1f0e-42fc-b83f-406d0ee6c16e",
   "metadata": {},
   "source": [
    "<h1>Adding new data columns</h1>"
   ]
  },
  {
   "cell_type": "code",
   "execution_count": 27,
   "id": "6e8cdeec-c51e-4dff-82ac-c2f9acc212e8",
   "metadata": {},
   "outputs": [],
   "source": [
    "accident ['Year'] = accident['Accident Date'].dt.year\n",
    "accident ['Month'] = accident['Accident Date'].dt.month\n",
    "accident ['DayOfWeek'] = accident['Accident Date'].dt.dayofweek"
   ]
  },
  {
   "cell_type": "code",
   "execution_count": 28,
   "id": "15ffcbeb-49bd-4034-80b3-c3cefc8e6fcc",
   "metadata": {},
   "outputs": [
    {
     "data": {
      "text/plain": [
       "Index                      0\n",
       "Accident_Severity          0\n",
       "Accident Date              0\n",
       "Latitude                   0\n",
       "Light_Conditions           0\n",
       "District Area              0\n",
       "Longitude                  0\n",
       "Number_of_Casualties       0\n",
       "Number_of_Vehicles         0\n",
       "Road_Surface_Conditions    0\n",
       "Road_Type                  0\n",
       "Urban_or_Rural_Area        0\n",
       "Weather_Conditions         0\n",
       "Vehicle_Type               0\n",
       "Year                       0\n",
       "Month                      0\n",
       "DayOfWeek                  0\n",
       "dtype: int64"
      ]
     },
     "execution_count": 28,
     "metadata": {},
     "output_type": "execute_result"
    }
   ],
   "source": [
    "accident.isnull().sum()"
   ]
  },
  {
   "cell_type": "markdown",
   "id": "f4259344-747d-4254-808e-9cb0e20e54dd",
   "metadata": {},
   "source": [
    "<h1>QUESTION NO.1</h1>\n",
    "\n",
    "<h2>Which year had the most accidents?</h2>"
   ]
  },
  {
   "cell_type": "code",
   "execution_count": 47,
   "id": "7657e3a7-2283-44ec-a8ee-533342f92949",
   "metadata": {},
   "outputs": [
    {
     "data": {
      "text/plain": [
       "Year\n",
       "2019    182115\n",
       "2020    170591\n",
       "2021    163554\n",
       "2022    144419\n",
       "Name: count, dtype: int64"
      ]
     },
     "execution_count": 47,
     "metadata": {},
     "output_type": "execute_result"
    }
   ],
   "source": [
    "accident['Year'].value_counts()"
   ]
  },
  {
   "cell_type": "markdown",
   "id": "93a20ec6-901d-4e0a-b11b-a68b132cf749",
   "metadata": {},
   "source": [
    "<h1>INSIGHT NO.1</h1>\n",
    "\n",
    "<h2>The year 2019 had the most accidents covering a 182115 or 27.56% of 660679 total amount of accidents within the year 2019-2022.</h2>"
   ]
  },
  {
   "cell_type": "markdown",
   "id": "4285b74d-3564-45a2-b3ea-e20ab12b1723",
   "metadata": {},
   "source": [
    "<h1>QUESTION NO.2</h1>\n",
    "\n",
    "<h2>What was the worst month by having the most accidents in 2019?</h2>"
   ]
  },
  {
   "cell_type": "code",
   "execution_count": 49,
   "id": "97112058-2641-4a22-be1c-cebd7632b026",
   "metadata": {},
   "outputs": [
    {
     "data": {
      "text/plain": [
       "np.int64(182115)"
      ]
     },
     "execution_count": 49,
     "metadata": {},
     "output_type": "execute_result"
    }
   ],
   "source": [
    "df_2019 = accident[accident['Year'] == 2019]\n",
    "df_2019['Month'].count()"
   ]
  },
  {
   "cell_type": "markdown",
   "id": "1e513ad8-4e2e-48f8-b004-ee27b08b4b98",
   "metadata": {},
   "source": [
    "<h1>INSIGHT NO.2</h1>\n",
    "\n",
    "<h2>November had the highest number of accidents having a total number of 16559 or 9.09% of 182115.</h2>"
   ]
  },
  {
   "cell_type": "markdown",
   "id": "90227014-3e36-4143-972b-889532094e6d",
   "metadata": {},
   "source": [
    "<h1>QUESTION NO.3</h1>\n",
    "\n",
    "<h2>What were the most common road surface conditions in November 2019</h2>"
   ]
  },
  {
   "cell_type": "code",
   "execution_count": 64,
   "id": "a7028857-f6b1-4dff-9fb2-cc412d090312",
   "metadata": {
    "scrolled": true
   },
   "outputs": [
    {
     "data": {
      "text/plain": [
       "Road_Surface_Conditions\n",
       "Dry                     9458\n",
       "Wet or damp             6786\n",
       "Frost or ice             241\n",
       "Snow                      28\n",
       "Flood over 3cm. deep      23\n",
       "unknown                   23\n",
       "Name: count, dtype: int64"
      ]
     },
     "execution_count": 64,
     "metadata": {},
     "output_type": "execute_result"
    }
   ],
   "source": [
    "df_Nov2019 = df_2019[df_2019['Month'] == 11]\n",
    "df_Nov2019['Road_Surface_Conditions'].value_counts()"
   ]
  },
  {
   "cell_type": "markdown",
   "id": "730ec589",
   "metadata": {},
   "source": [
    "<h1>INSIGHT NO.3</h1>\n",
    "\n",
    "<h2>There are a total of 9458 accidents occured in a dry surface road on November 2019</h2>"
   ]
  },
  {
   "cell_type": "markdown",
   "id": "255fd646",
   "metadata": {},
   "source": [
    "<h1>QUESTION NO.4</h1>\n",
    "\n",
    "<h2>Which vehicle types were involved in accidents on a dry surface road on November 2019?</h2>"
   ]
  },
  {
   "cell_type": "code",
   "execution_count": 68,
   "id": "31667a2d",
   "metadata": {},
   "outputs": [
    {
     "data": {
      "text/plain": [
       "Vehicle_Type\n",
       "Car                                      6741\n",
       "Bus or coach (17 or more pass seats)      595\n",
       "Van / Goods 3.5 tonnes mgw or under       449\n",
       "Motorcycle over 500cc                     426\n",
       "Goods 7.5 tonnes mgw and over             293\n",
       "Motorcycle 125cc and under                233\n",
       "Taxi/Private hire car                     217\n",
       "Motorcycle over 125cc and up to 500cc     128\n",
       "Goods over 3.5t. and under 7.5t           109\n",
       "Motorcycle 50cc and under                 102\n",
       "Other vehicle                              94\n",
       "Minibus (8 - 16 passenger seats)           41\n",
       "Agricultural vehicle                       30\n",
       "Data missing or out of range                0\n",
       "Ridden horse                                0\n",
       "Pedal cycle                                 0\n",
       "Name: count, dtype: int64"
      ]
     },
     "execution_count": 68,
     "metadata": {},
     "output_type": "execute_result"
    }
   ],
   "source": [
    "df_Nov2019[df_Nov2019['Road_Surface_Conditions'] == 'Dry']['Vehicle_Type'].value_counts()\n"
   ]
  },
  {
   "cell_type": "markdown",
   "id": "798d75fd",
   "metadata": {},
   "source": [
    "<h1>INSIGHT NO.4</h1>\n",
    "\n",
    "<h2>Cars were involved in most accidents probably due to it is the most common type of vehicle</h2>"
   ]
  },
  {
   "cell_type": "markdown",
   "id": "80ce1bd0",
   "metadata": {},
   "source": [
    "<h1>QUESTION NO.5</h1>\n",
    "\n",
    "<h2>Do more vehicles involved in an accident lead to more Casualties?</h2>"
   ]
  },
  {
   "cell_type": "code",
   "execution_count": 35,
   "id": "82519ee7",
   "metadata": {},
   "outputs": [
    {
     "data": {
      "text/html": [
       "<div>\n",
       "<style scoped>\n",
       "    .dataframe tbody tr th:only-of-type {\n",
       "        vertical-align: middle;\n",
       "    }\n",
       "\n",
       "    .dataframe tbody tr th {\n",
       "        vertical-align: top;\n",
       "    }\n",
       "\n",
       "    .dataframe thead th {\n",
       "        text-align: right;\n",
       "    }\n",
       "</style>\n",
       "<table border=\"1\" class=\"dataframe\">\n",
       "  <thead>\n",
       "    <tr style=\"text-align: right;\">\n",
       "      <th></th>\n",
       "      <th>Number_of_Vehicles</th>\n",
       "      <th>Number_of_Casualties</th>\n",
       "    </tr>\n",
       "  </thead>\n",
       "  <tbody>\n",
       "    <tr>\n",
       "      <th>Number_of_Vehicles</th>\n",
       "      <td>1.000000</td>\n",
       "      <td>0.228889</td>\n",
       "    </tr>\n",
       "    <tr>\n",
       "      <th>Number_of_Casualties</th>\n",
       "      <td>0.228889</td>\n",
       "      <td>1.000000</td>\n",
       "    </tr>\n",
       "  </tbody>\n",
       "</table>\n",
       "</div>"
      ],
      "text/plain": [
       "                      Number_of_Vehicles  Number_of_Casualties\n",
       "Number_of_Vehicles              1.000000              0.228889\n",
       "Number_of_Casualties            0.228889              1.000000"
      ]
     },
     "execution_count": 35,
     "metadata": {},
     "output_type": "execute_result"
    }
   ],
   "source": [
    "accident[[\"Number_of_Vehicles\", \"Number_of_Casualties\"]].corr()"
   ]
  },
  {
   "cell_type": "markdown",
   "id": "2abc1e37",
   "metadata": {},
   "source": [
    "<h1>INSIGHT NO.5</h1>\n",
    "\n",
    "<h2>More vehicles involved in an accident tend to result in more casualties.</h2>"
   ]
  },
  {
   "cell_type": "markdown",
   "id": "a7899856",
   "metadata": {},
   "source": [
    "<h1>QUESTION NO.6</h1>\n",
    "\n",
    "<h2>What types of road have the most occuring fatal accidents</h2>"
   ]
  },
  {
   "cell_type": "code",
   "execution_count": 36,
   "id": "fe293ce4",
   "metadata": {},
   "outputs": [
    {
     "data": {
      "text/plain": [
       "Road_Type\n",
       "Single carriageway    6527\n",
       "Dual carriageway      1815\n",
       "Roundabout             142\n",
       "One way street          95\n",
       "Slip road               49\n",
       "unknown                 33\n",
       "Name: count, dtype: int64"
      ]
     },
     "execution_count": 36,
     "metadata": {},
     "output_type": "execute_result"
    }
   ],
   "source": [
    "accident[accident[\"Accident_Severity\"] == \"Fatal\"] [\"Road_Type\"].value_counts()"
   ]
  },
  {
   "cell_type": "markdown",
   "id": "46fd8440",
   "metadata": {},
   "source": [
    "<h1>INSIGHT NO.6</h1>\n",
    "\n",
    "<h2>A single carriageway type of road is the most prone to fatal accidents</h2>"
   ]
  },
  {
   "cell_type": "markdown",
   "id": "c255b75e",
   "metadata": {},
   "source": [
    "<h1>QUESTION NO.7</h1>\n",
    "\n",
    "<h2>What type of vehicle is most likely to have an accident in a single carriageway with a Fatal accident.</h2>"
   ]
  },
  {
   "cell_type": "code",
   "execution_count": 69,
   "id": "a5f48f3e",
   "metadata": {},
   "outputs": [
    {
     "data": {
      "text/plain": [
       "Vehicle_Type\n",
       "Car                                      4973\n",
       "Van / Goods 3.5 tonnes mgw or under       346\n",
       "Bus or coach (17 or more pass seats)      249\n",
       "Motorcycle over 500cc                     247\n",
       "Goods 7.5 tonnes mgw and over             158\n",
       "Motorcycle 125cc and under                150\n",
       "Taxi/Private hire car                     114\n",
       "Motorcycle over 125cc and up to 500cc      78\n",
       "Motorcycle 50cc and under                  68\n",
       "Other vehicle                              53\n",
       "Goods over 3.5t. and under 7.5t            48\n",
       "Minibus (8 - 16 passenger seats)           24\n",
       "Agricultural vehicle                       14\n",
       "Pedal cycle                                 5\n",
       "Data missing or out of range                0\n",
       "Ridden horse                                0\n",
       "Name: count, dtype: int64"
      ]
     },
     "execution_count": 69,
     "metadata": {},
     "output_type": "execute_result"
    }
   ],
   "source": [
    "accident[(accident[\"Road_Type\"] == \"Single carriageway\") & \n",
    "           (accident[\"Accident_Severity\"] == \"Fatal\")][\"Vehicle_Type\"].value_counts()\n"
   ]
  },
  {
   "cell_type": "markdown",
   "id": "32bbffe9",
   "metadata": {},
   "source": [
    "<h1>INSIGHT NO.7</h1>\n",
    "\n",
    "<h2>A total of 4973 or 76.19% out of 6527 total Fatal accidents in a single carriageway involved cars</h2>"
   ]
  },
  {
   "cell_type": "markdown",
   "id": "efc0504a-ba94-41ce-95c6-fbc860c388a5",
   "metadata": {},
   "source": [
    "<h1>QUESTION NO.8</h1>\n",
    "\n",
    "<h2>What month has the most occured accidents in 2020</h2>"
   ]
  },
  {
   "cell_type": "code",
   "execution_count": 37,
   "id": "685dbd89-e2b2-4bcf-802d-b893ccf3e19a",
   "metadata": {},
   "outputs": [],
   "source": [
    "df_2021 = accident[accident ['Year'] == 2021]"
   ]
  },
  {
   "cell_type": "code",
   "execution_count": 38,
   "id": "fec0c4d4-41d8-4130-8cb5-52c4423cfe31",
   "metadata": {},
   "outputs": [
    {
     "data": {
      "text/plain": [
       "np.int64(1093053)"
      ]
     },
     "execution_count": 38,
     "metadata": {},
     "output_type": "execute_result"
    }
   ],
   "source": [
    "df_2021['Month'].sum()"
   ]
  },
  {
   "cell_type": "code",
   "execution_count": 39,
   "id": "ec4dd162-13b7-4f7a-b982-60419442ef44",
   "metadata": {},
   "outputs": [
    {
     "data": {
      "text/plain": [
       "Month\n",
       "11    15473\n",
       "10    14834\n",
       "7     14300\n",
       "6     13936\n",
       "5     13811\n",
       "9     13792\n",
       "12    13709\n",
       "1     13417\n",
       "8     13415\n",
       "3     13202\n",
       "4     12715\n",
       "2     10950\n",
       "Name: count, dtype: int64"
      ]
     },
     "execution_count": 39,
     "metadata": {},
     "output_type": "execute_result"
    }
   ],
   "source": [
    "df_2021['Month'].value_counts()"
   ]
  },
  {
   "cell_type": "markdown",
   "id": "fc5c715a-91ae-45c5-bff8-808b23831051",
   "metadata": {},
   "source": [
    "<h1>INSIGHT NO.8</h1>\n",
    "\n",
    "<h2>The most accident occured is the month of November which is almost 1.42% of the whole year of 2021</h2>"
   ]
  },
  {
   "cell_type": "markdown",
   "id": "da873979-1320-443b-8778-e750de2b5110",
   "metadata": {},
   "source": [
    "<h1>QUESTION NO.9</h1>\n",
    "\n",
    "<h2>What kind of road surface condition is prone to accident in November 2021</h2>"
   ]
  },
  {
   "cell_type": "code",
   "execution_count": 40,
   "id": "5702001e-87b8-4264-9735-d9ff0f4e59f4",
   "metadata": {},
   "outputs": [],
   "source": [
    "df_Nov2021 = df_2021[df_2021['Month'] == 11]"
   ]
  },
  {
   "cell_type": "code",
   "execution_count": 41,
   "id": "84a47614-1773-4ed8-bf28-705ab56fbb84",
   "metadata": {
    "scrolled": true
   },
   "outputs": [
    {
     "data": {
      "text/html": [
       "<div>\n",
       "<style scoped>\n",
       "    .dataframe tbody tr th:only-of-type {\n",
       "        vertical-align: middle;\n",
       "    }\n",
       "\n",
       "    .dataframe tbody tr th {\n",
       "        vertical-align: top;\n",
       "    }\n",
       "\n",
       "    .dataframe thead th {\n",
       "        text-align: right;\n",
       "    }\n",
       "</style>\n",
       "<table border=\"1\" class=\"dataframe\">\n",
       "  <thead>\n",
       "    <tr style=\"text-align: right;\">\n",
       "      <th></th>\n",
       "      <th>Index</th>\n",
       "      <th>Accident_Severity</th>\n",
       "      <th>Accident Date</th>\n",
       "      <th>Latitude</th>\n",
       "      <th>Light_Conditions</th>\n",
       "      <th>District Area</th>\n",
       "      <th>Longitude</th>\n",
       "      <th>Number_of_Casualties</th>\n",
       "      <th>Number_of_Vehicles</th>\n",
       "      <th>Road_Surface_Conditions</th>\n",
       "      <th>Road_Type</th>\n",
       "      <th>Urban_or_Rural_Area</th>\n",
       "      <th>Weather_Conditions</th>\n",
       "      <th>Vehicle_Type</th>\n",
       "      <th>Year</th>\n",
       "      <th>Month</th>\n",
       "      <th>DayOfWeek</th>\n",
       "    </tr>\n",
       "  </thead>\n",
       "  <tbody>\n",
       "    <tr>\n",
       "      <th>353232</th>\n",
       "      <td>200901BS70618</td>\n",
       "      <td>Slight</td>\n",
       "      <td>2021-11-01</td>\n",
       "      <td>51.499011</td>\n",
       "      <td>Daylight</td>\n",
       "      <td>Kensington and Chelsea</td>\n",
       "      <td>-0.198558</td>\n",
       "      <td>2</td>\n",
       "      <td>2</td>\n",
       "      <td>Dry</td>\n",
       "      <td>Single carriageway</td>\n",
       "      <td>Urban</td>\n",
       "      <td>Fine + high winds</td>\n",
       "      <td>Car</td>\n",
       "      <td>2021</td>\n",
       "      <td>11</td>\n",
       "      <td>0</td>\n",
       "    </tr>\n",
       "    <tr>\n",
       "      <th>353239</th>\n",
       "      <td>200901BS70625</td>\n",
       "      <td>Slight</td>\n",
       "      <td>2021-11-01</td>\n",
       "      <td>51.497242</td>\n",
       "      <td>Darkness - lights lit</td>\n",
       "      <td>Kensington and Chelsea</td>\n",
       "      <td>-0.194593</td>\n",
       "      <td>1</td>\n",
       "      <td>2</td>\n",
       "      <td>Dry</td>\n",
       "      <td>Roundabout</td>\n",
       "      <td>Urban</td>\n",
       "      <td>Fine no high winds</td>\n",
       "      <td>Goods 7.5 tonnes mgw and over</td>\n",
       "      <td>2021</td>\n",
       "      <td>11</td>\n",
       "      <td>0</td>\n",
       "    </tr>\n",
       "    <tr>\n",
       "      <th>353241</th>\n",
       "      <td>200901BS70627</td>\n",
       "      <td>Slight</td>\n",
       "      <td>2021-11-01</td>\n",
       "      <td>51.488898</td>\n",
       "      <td>Daylight</td>\n",
       "      <td>Kensington and Chelsea</td>\n",
       "      <td>-0.190025</td>\n",
       "      <td>1</td>\n",
       "      <td>1</td>\n",
       "      <td>Wet or damp</td>\n",
       "      <td>One way street</td>\n",
       "      <td>Urban</td>\n",
       "      <td>Raining no high winds</td>\n",
       "      <td>Van / Goods 3.5 tonnes mgw or under</td>\n",
       "      <td>2021</td>\n",
       "      <td>11</td>\n",
       "      <td>0</td>\n",
       "    </tr>\n",
       "    <tr>\n",
       "      <th>353242</th>\n",
       "      <td>200901BS70628</td>\n",
       "      <td>Slight</td>\n",
       "      <td>2021-11-03</td>\n",
       "      <td>51.482637</td>\n",
       "      <td>Daylight</td>\n",
       "      <td>Kensington and Chelsea</td>\n",
       "      <td>-0.186385</td>\n",
       "      <td>1</td>\n",
       "      <td>2</td>\n",
       "      <td>Wet or damp</td>\n",
       "      <td>Single carriageway</td>\n",
       "      <td>Urban</td>\n",
       "      <td>Raining no high winds</td>\n",
       "      <td>Van / Goods 3.5 tonnes mgw or under</td>\n",
       "      <td>2021</td>\n",
       "      <td>11</td>\n",
       "      <td>2</td>\n",
       "    </tr>\n",
       "    <tr>\n",
       "      <th>353244</th>\n",
       "      <td>200901BS70630</td>\n",
       "      <td>Slight</td>\n",
       "      <td>2021-11-04</td>\n",
       "      <td>51.494521</td>\n",
       "      <td>Daylight</td>\n",
       "      <td>Kensington and Chelsea</td>\n",
       "      <td>-0.158397</td>\n",
       "      <td>1</td>\n",
       "      <td>2</td>\n",
       "      <td>Dry</td>\n",
       "      <td>Single carriageway</td>\n",
       "      <td>Urban</td>\n",
       "      <td>Fine no high winds</td>\n",
       "      <td>Car</td>\n",
       "      <td>2021</td>\n",
       "      <td>11</td>\n",
       "      <td>3</td>\n",
       "    </tr>\n",
       "    <tr>\n",
       "      <th>...</th>\n",
       "      <td>...</td>\n",
       "      <td>...</td>\n",
       "      <td>...</td>\n",
       "      <td>...</td>\n",
       "      <td>...</td>\n",
       "      <td>...</td>\n",
       "      <td>...</td>\n",
       "      <td>...</td>\n",
       "      <td>...</td>\n",
       "      <td>...</td>\n",
       "      <td>...</td>\n",
       "      <td>...</td>\n",
       "      <td>...</td>\n",
       "      <td>...</td>\n",
       "      <td>...</td>\n",
       "      <td>...</td>\n",
       "      <td>...</td>\n",
       "    </tr>\n",
       "    <tr>\n",
       "      <th>516246</th>\n",
       "      <td>2.01E+12</td>\n",
       "      <td>Serious</td>\n",
       "      <td>2021-11-18</td>\n",
       "      <td>55.341751</td>\n",
       "      <td>Darkness - no lighting</td>\n",
       "      <td>Dumfries and Galloway</td>\n",
       "      <td>-3.490779</td>\n",
       "      <td>2</td>\n",
       "      <td>4</td>\n",
       "      <td>Wet or damp</td>\n",
       "      <td>Dual carriageway</td>\n",
       "      <td>Rural</td>\n",
       "      <td>Raining no high winds</td>\n",
       "      <td>Taxi/Private hire car</td>\n",
       "      <td>2021</td>\n",
       "      <td>11</td>\n",
       "      <td>3</td>\n",
       "    </tr>\n",
       "    <tr>\n",
       "      <th>516248</th>\n",
       "      <td>2.01E+12</td>\n",
       "      <td>Slight</td>\n",
       "      <td>2021-11-30</td>\n",
       "      <td>55.04001</td>\n",
       "      <td>Daylight</td>\n",
       "      <td>Dumfries and Galloway</td>\n",
       "      <td>-3.211317</td>\n",
       "      <td>1</td>\n",
       "      <td>1</td>\n",
       "      <td>Dry</td>\n",
       "      <td>Single carriageway</td>\n",
       "      <td>Rural</td>\n",
       "      <td>Fine no high winds</td>\n",
       "      <td>Goods over 3.5t. and under 7.5t</td>\n",
       "      <td>2021</td>\n",
       "      <td>11</td>\n",
       "      <td>1</td>\n",
       "    </tr>\n",
       "    <tr>\n",
       "      <th>516249</th>\n",
       "      <td>2.01E+12</td>\n",
       "      <td>Serious</td>\n",
       "      <td>2021-11-29</td>\n",
       "      <td>54.994538</td>\n",
       "      <td>Daylight</td>\n",
       "      <td>Dumfries and Galloway</td>\n",
       "      <td>-3.067075</td>\n",
       "      <td>1</td>\n",
       "      <td>1</td>\n",
       "      <td>Dry</td>\n",
       "      <td>Single carriageway</td>\n",
       "      <td>Rural</td>\n",
       "      <td>Fine no high winds</td>\n",
       "      <td>Car</td>\n",
       "      <td>2021</td>\n",
       "      <td>11</td>\n",
       "      <td>0</td>\n",
       "    </tr>\n",
       "    <tr>\n",
       "      <th>516251</th>\n",
       "      <td>2.01E+12</td>\n",
       "      <td>Slight</td>\n",
       "      <td>2021-11-27</td>\n",
       "      <td>55.063598</td>\n",
       "      <td>Darkness - no lighting</td>\n",
       "      <td>Dumfries and Galloway</td>\n",
       "      <td>-3.400091</td>\n",
       "      <td>1</td>\n",
       "      <td>1</td>\n",
       "      <td>Wet or damp</td>\n",
       "      <td>Single carriageway</td>\n",
       "      <td>Rural</td>\n",
       "      <td>Fine no high winds</td>\n",
       "      <td>Motorcycle 125cc and under</td>\n",
       "      <td>2021</td>\n",
       "      <td>11</td>\n",
       "      <td>5</td>\n",
       "    </tr>\n",
       "    <tr>\n",
       "      <th>516252</th>\n",
       "      <td>2.01E+12</td>\n",
       "      <td>Slight</td>\n",
       "      <td>2021-11-26</td>\n",
       "      <td>55.057373</td>\n",
       "      <td>Darkness - no lighting</td>\n",
       "      <td>Dumfries and Galloway</td>\n",
       "      <td>-3.065145</td>\n",
       "      <td>1</td>\n",
       "      <td>1</td>\n",
       "      <td>Dry</td>\n",
       "      <td>Single carriageway</td>\n",
       "      <td>Rural</td>\n",
       "      <td>Fine no high winds</td>\n",
       "      <td>Car</td>\n",
       "      <td>2021</td>\n",
       "      <td>11</td>\n",
       "      <td>4</td>\n",
       "    </tr>\n",
       "  </tbody>\n",
       "</table>\n",
       "<p>15473 rows × 17 columns</p>\n",
       "</div>"
      ],
      "text/plain": [
       "                Index Accident_Severity Accident Date   Latitude  \\\n",
       "353232  200901BS70618            Slight    2021-11-01  51.499011   \n",
       "353239  200901BS70625            Slight    2021-11-01  51.497242   \n",
       "353241  200901BS70627            Slight    2021-11-01  51.488898   \n",
       "353242  200901BS70628            Slight    2021-11-03  51.482637   \n",
       "353244  200901BS70630            Slight    2021-11-04  51.494521   \n",
       "...               ...               ...           ...        ...   \n",
       "516246       2.01E+12           Serious    2021-11-18  55.341751   \n",
       "516248       2.01E+12            Slight    2021-11-30   55.04001   \n",
       "516249       2.01E+12           Serious    2021-11-29  54.994538   \n",
       "516251       2.01E+12            Slight    2021-11-27  55.063598   \n",
       "516252       2.01E+12            Slight    2021-11-26  55.057373   \n",
       "\n",
       "              Light_Conditions           District Area Longitude  \\\n",
       "353232                Daylight  Kensington and Chelsea -0.198558   \n",
       "353239   Darkness - lights lit  Kensington and Chelsea -0.194593   \n",
       "353241                Daylight  Kensington and Chelsea -0.190025   \n",
       "353242                Daylight  Kensington and Chelsea -0.186385   \n",
       "353244                Daylight  Kensington and Chelsea -0.158397   \n",
       "...                        ...                     ...       ...   \n",
       "516246  Darkness - no lighting   Dumfries and Galloway -3.490779   \n",
       "516248                Daylight   Dumfries and Galloway -3.211317   \n",
       "516249                Daylight   Dumfries and Galloway -3.067075   \n",
       "516251  Darkness - no lighting   Dumfries and Galloway -3.400091   \n",
       "516252  Darkness - no lighting   Dumfries and Galloway -3.065145   \n",
       "\n",
       "        Number_of_Casualties  Number_of_Vehicles Road_Surface_Conditions  \\\n",
       "353232                     2                   2                     Dry   \n",
       "353239                     1                   2                     Dry   \n",
       "353241                     1                   1             Wet or damp   \n",
       "353242                     1                   2             Wet or damp   \n",
       "353244                     1                   2                     Dry   \n",
       "...                      ...                 ...                     ...   \n",
       "516246                     2                   4             Wet or damp   \n",
       "516248                     1                   1                     Dry   \n",
       "516249                     1                   1                     Dry   \n",
       "516251                     1                   1             Wet or damp   \n",
       "516252                     1                   1                     Dry   \n",
       "\n",
       "                 Road_Type Urban_or_Rural_Area     Weather_Conditions  \\\n",
       "353232  Single carriageway               Urban      Fine + high winds   \n",
       "353239          Roundabout               Urban     Fine no high winds   \n",
       "353241      One way street               Urban  Raining no high winds   \n",
       "353242  Single carriageway               Urban  Raining no high winds   \n",
       "353244  Single carriageway               Urban     Fine no high winds   \n",
       "...                    ...                 ...                    ...   \n",
       "516246    Dual carriageway               Rural  Raining no high winds   \n",
       "516248  Single carriageway               Rural     Fine no high winds   \n",
       "516249  Single carriageway               Rural     Fine no high winds   \n",
       "516251  Single carriageway               Rural     Fine no high winds   \n",
       "516252  Single carriageway               Rural     Fine no high winds   \n",
       "\n",
       "                               Vehicle_Type  Year  Month  DayOfWeek  \n",
       "353232                                  Car  2021     11          0  \n",
       "353239        Goods 7.5 tonnes mgw and over  2021     11          0  \n",
       "353241  Van / Goods 3.5 tonnes mgw or under  2021     11          0  \n",
       "353242  Van / Goods 3.5 tonnes mgw or under  2021     11          2  \n",
       "353244                                  Car  2021     11          3  \n",
       "...                                     ...   ...    ...        ...  \n",
       "516246                Taxi/Private hire car  2021     11          3  \n",
       "516248      Goods over 3.5t. and under 7.5t  2021     11          1  \n",
       "516249                                  Car  2021     11          0  \n",
       "516251           Motorcycle 125cc and under  2021     11          5  \n",
       "516252                                  Car  2021     11          4  \n",
       "\n",
       "[15473 rows x 17 columns]"
      ]
     },
     "execution_count": 41,
     "metadata": {},
     "output_type": "execute_result"
    }
   ],
   "source": [
    "df_Nov2021"
   ]
  },
  {
   "cell_type": "code",
   "execution_count": 42,
   "id": "315e298c-9908-4a77-8ab0-60dc097b33f2",
   "metadata": {},
   "outputs": [
    {
     "data": {
      "text/plain": [
       "Road_Surface_Conditions\n",
       "Wet or damp             9323\n",
       "Dry                     5923\n",
       "Frost or ice             111\n",
       "Flood over 3cm. deep      84\n",
       "unknown                   19\n",
       "Snow                      13\n",
       "Name: count, dtype: int64"
      ]
     },
     "execution_count": 42,
     "metadata": {},
     "output_type": "execute_result"
    }
   ],
   "source": [
    "df_Nov2021['Road_Surface_Conditions'].value_counts()"
   ]
  },
  {
   "cell_type": "markdown",
   "id": "8e7931e5-a342-48e2-b95d-79b19c8fa06e",
   "metadata": {},
   "source": [
    "<h1>INSIGHT NO.9</h1>\n",
    "\n",
    "<h2>9,323 accidents, or 60.25%, were caused by wet roads.</h2>"
   ]
  },
  {
   "cell_type": "markdown",
   "id": "887700e9-6a56-43c9-bc6a-ba23c854e7b0",
   "metadata": {},
   "source": [
    "<h1>QUESTION NO.10</h1>\n",
    "\n",
    "<h2>What type of Vehicle is commonly involved in a wet road surface with fatal accidents on November 2021 aside from cars</h2>"
   ]
  },
  {
   "cell_type": "code",
   "execution_count": 71,
   "id": "db8e29d2-79d3-4bfc-9197-98a9a8176322",
   "metadata": {},
   "outputs": [
    {
     "data": {
      "text/plain": [
       "Vehicle_Type\n",
       "Car                                      78\n",
       "Motorcycle over 500cc                     9\n",
       "Van / Goods 3.5 tonnes mgw or under       6\n",
       "Motorcycle 125cc and under                6\n",
       "Goods 7.5 tonnes mgw and over             3\n",
       "Taxi/Private hire car                     3\n",
       "Motorcycle 50cc and under                 2\n",
       "Bus or coach (17 or more pass seats)      2\n",
       "Motorcycle over 125cc and up to 500cc     1\n",
       "Goods over 3.5t. and under 7.5t           1\n",
       "Minibus (8 - 16 passenger seats)          1\n",
       "Data missing or out of range              0\n",
       "Agricultural vehicle                      0\n",
       "Other vehicle                             0\n",
       "Ridden horse                              0\n",
       "Pedal cycle                               0\n",
       "Name: count, dtype: int64"
      ]
     },
     "execution_count": 71,
     "metadata": {},
     "output_type": "execute_result"
    }
   ],
   "source": [
    "df_Nov2021[(df_Nov2021[\"Road_Surface_Conditions\"] == \"Wet or damp\") & \n",
    "           (df_Nov2021[\"Accident_Severity\"] == \"Fatal\")][\"Vehicle_Type\"].value_counts()\n"
   ]
  },
  {
   "cell_type": "markdown",
   "id": "91b7d811",
   "metadata": {},
   "source": [
    "<h1>INSIGHT NO.10</h1>\n",
    "\n",
    "<h2>Motorcycles are the most commonly involved vehicles in fatal accidents on wet roads aside from cars, likely due to loss of control, skidding, and lack of protection.</h2>"
   ]
  },
  {
   "cell_type": "markdown",
   "id": "ac385de5",
   "metadata": {},
   "source": [
    "<h1>QUESTION NO.11</h1>\n",
    "\n",
    "<h2>Which vehicle type had the least number of accidents?</h2>"
   ]
  },
  {
   "cell_type": "code",
   "execution_count": 84,
   "id": "4bb40602",
   "metadata": {},
   "outputs": [
    {
     "name": "stdout",
     "output_type": "stream",
     "text": [
      "Least involved vehicle type: Ridden horse with 4 accidents\n"
     ]
    },
    {
     "data": {
      "text/plain": [
       "Vehicle_Type\n",
       "Car                                      497992\n",
       "Van / Goods 3.5 tonnes mgw or under       34160\n",
       "Bus or coach (17 or more pass seats)      25878\n",
       "Motorcycle over 500cc                     25657\n",
       "Goods 7.5 tonnes mgw and over             17307\n",
       "Motorcycle 125cc and under                15269\n",
       "Taxi/Private hire car                     13294\n",
       "Motorcycle over 125cc and up to 500cc      7656\n",
       "Motorcycle 50cc and under                  7603\n",
       "Goods over 3.5t. and under 7.5t            6096\n",
       "Other vehicle                              5637\n",
       "Minibus (8 - 16 passenger seats)           1976\n",
       "Agricultural vehicle                       1947\n",
       "Pedal cycle                                 197\n",
       "Data missing or out of range                  6\n",
       "Ridden horse                                  4\n",
       "Name: count, dtype: int64"
      ]
     },
     "execution_count": 84,
     "metadata": {},
     "output_type": "execute_result"
    }
   ],
   "source": [
    "least_accident_vehicle = accident[\"Vehicle_Type\"].value_counts().idxmin()\n",
    "least_accident_vehicle_count = accident[\"Vehicle_Type\"].value_counts().min()\n",
    "print(f\"Least involved vehicle type: {least_accident_vehicle} with {least_accident_vehicle_count} accidents\")\n",
    "\n",
    "accident[\"Vehicle_Type\"].value_counts()"
   ]
  },
  {
   "cell_type": "markdown",
   "id": "f1ef4a0e",
   "metadata": {},
   "source": [
    "<h1>INSIGHT NO.11</h1>\n",
    "\n",
    "<h2>Riding Horse is the least number of accident recorded within 2019-2022 with only 4 recorded accidents</h2>"
   ]
  },
  {
   "cell_type": "markdown",
   "id": "4583e87a",
   "metadata": {},
   "source": [
    "<h1>QUESTION NO.12</h1>\n",
    "\n",
    "<h2>Where do Ridden Horse accidents occured? is it only in Rural areas or both?</h2>"
   ]
  },
  {
   "cell_type": "code",
   "execution_count": 86,
   "id": "3bf73b7f",
   "metadata": {},
   "outputs": [
    {
     "data": {
      "text/plain": [
       "Urban_or_Rural_Area\n",
       "Urban          3\n",
       "Rural          1\n",
       "Unallocated    0\n",
       "unknown        0\n",
       "Name: count, dtype: int64"
      ]
     },
     "execution_count": 86,
     "metadata": {},
     "output_type": "execute_result"
    }
   ],
   "source": [
    "accident[accident[\"Vehicle_Type\"] == least_accident_vehicle][\"Urban_or_Rural_Area\"].value_counts()\n"
   ]
  },
  {
   "cell_type": "markdown",
   "id": "dca27b1f",
   "metadata": {},
   "source": [
    "<h1>INSIGHT NO.12</h1>\n",
    "\n",
    "<h2>3 of them are occured in an Urban area while the other 1 occured in a Rural Area.</h2>"
   ]
  },
  {
   "cell_type": "markdown",
   "id": "a1d93be2",
   "metadata": {},
   "source": [
    "<h1>QUESTION NO.13</h1>\n",
    "\n",
    "<h2>What Day of the Week are these accidents commonly occurs?</h2>"
   ]
  },
  {
   "cell_type": "code",
   "execution_count": 90,
   "id": "6ebe2f65",
   "metadata": {},
   "outputs": [
    {
     "data": {
      "text/plain": [
       "DayOfWeek\n",
       "3    2\n",
       "1    1\n",
       "2    1\n",
       "Name: count, dtype: int64"
      ]
     },
     "execution_count": 90,
     "metadata": {},
     "output_type": "execute_result"
    }
   ],
   "source": [
    "accident[accident[\"Vehicle_Type\"] == least_accident_vehicle][\"DayOfWeek\"].value_counts()"
   ]
  },
  {
   "cell_type": "markdown",
   "id": "14e4ce6c",
   "metadata": {},
   "source": [
    "<h1>INSIGHT NO.13</h1>\n",
    "\n",
    "<h2>All accidents of the Ridden Horse occur in weekdays, 2 in Thursday and 1 in both Tuesday and Wednesday.</h2>"
   ]
  },
  {
   "cell_type": "markdown",
   "id": "dcbaff5c",
   "metadata": {},
   "source": [
    "<h1>QUESTION NO.14</h1>\n",
    "\n",
    "<h2></h2>"
   ]
  }
 ],
 "metadata": {
  "kernelspec": {
   "display_name": "Python 3",
   "language": "python",
   "name": "python3"
  },
  "language_info": {
   "codemirror_mode": {
    "name": "ipython",
    "version": 3
   },
   "file_extension": ".py",
   "mimetype": "text/x-python",
   "name": "python",
   "nbconvert_exporter": "python",
   "pygments_lexer": "ipython3",
   "version": "3.10.11"
  }
 },
 "nbformat": 4,
 "nbformat_minor": 5
}
