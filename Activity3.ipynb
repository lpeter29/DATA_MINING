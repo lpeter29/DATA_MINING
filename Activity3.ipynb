{
 "cells": [
  {
   "cell_type": "markdown",
   "id": "48ff4b03-f197-4311-ad96-57e73eace955",
   "metadata": {},
   "source": [
    "<h1>UK ROAD ACCIDENT DATA ANALYSIS</h1>\n",
    "\n",
    "<h2>INCLUSIVE YEAR 2019 - 2022</h2>\n",
    "\n",
    "<h3>ANALYST: PETER PAUL F. ECLAVEA</h3>"
   ]
  },
  {
   "cell_type": "code",
   "execution_count": 9,
   "id": "268c48ba-2b9f-4419-b5aa-9f031cc0e9ba",
   "metadata": {},
   "outputs": [
    {
     "ename": "ModuleNotFoundError",
     "evalue": "No module named 'scipy'",
     "output_type": "error",
     "traceback": [
      "\u001b[1;31m---------------------------------------------------------------------------\u001b[0m",
      "\u001b[1;31mModuleNotFoundError\u001b[0m                       Traceback (most recent call last)",
      "Cell \u001b[1;32mIn[9], line 5\u001b[0m\n\u001b[0;32m      3\u001b[0m \u001b[38;5;28;01mimport\u001b[39;00m \u001b[38;5;21;01mmatplotlib\u001b[39;00m\u001b[38;5;21;01m.\u001b[39;00m\u001b[38;5;21;01mpyplot\u001b[39;00m \u001b[38;5;28;01mas\u001b[39;00m \u001b[38;5;21;01mplt\u001b[39;00m\n\u001b[0;32m      4\u001b[0m \u001b[38;5;28;01mimport\u001b[39;00m \u001b[38;5;21;01mseaborn\u001b[39;00m \u001b[38;5;28;01mas\u001b[39;00m \u001b[38;5;21;01msns\u001b[39;00m\n\u001b[1;32m----> 5\u001b[0m \u001b[38;5;28;01mfrom\u001b[39;00m \u001b[38;5;21;01mscipy\u001b[39;00m\u001b[38;5;21;01m.\u001b[39;00m\u001b[38;5;21;01mstats\u001b[39;00m \u001b[38;5;28;01mimport\u001b[39;00m f_oneway\n",
      "\u001b[1;31mModuleNotFoundError\u001b[0m: No module named 'scipy'"
     ]
    }
   ],
   "source": [
    "import numpy as np\n",
    "import pandas as pd\n",
    "import matplotlib.pyplot as plt\n",
    "import seaborn as sns\n",
    "from scipy.stats import f_oneway"
   ]
  },
  {
   "cell_type": "code",
   "execution_count": null,
   "id": "badbbfe9-55f9-41c3-a94d-1bca54a6a93e",
   "metadata": {},
   "outputs": [],
   "source": [
    "accident = pd.read_csv('datasets//accident_data.csv')"
   ]
  },
  {
   "cell_type": "code",
   "execution_count": null,
   "id": "beab572a-5367-47c1-8390-e840201f1cab",
   "metadata": {
    "scrolled": true
   },
   "outputs": [
    {
     "data": {
      "text/html": [
       "<div>\n",
       "<style scoped>\n",
       "    .dataframe tbody tr th:only-of-type {\n",
       "        vertical-align: middle;\n",
       "    }\n",
       "\n",
       "    .dataframe tbody tr th {\n",
       "        vertical-align: top;\n",
       "    }\n",
       "\n",
       "    .dataframe thead th {\n",
       "        text-align: right;\n",
       "    }\n",
       "</style>\n",
       "<table border=\"1\" class=\"dataframe\">\n",
       "  <thead>\n",
       "    <tr style=\"text-align: right;\">\n",
       "      <th></th>\n",
       "      <th>Index</th>\n",
       "      <th>Accident_Severity</th>\n",
       "      <th>Accident Date</th>\n",
       "      <th>Latitude</th>\n",
       "      <th>Light_Conditions</th>\n",
       "      <th>District Area</th>\n",
       "      <th>Longitude</th>\n",
       "      <th>Number_of_Casualties</th>\n",
       "      <th>Number_of_Vehicles</th>\n",
       "      <th>Road_Surface_Conditions</th>\n",
       "      <th>Road_Type</th>\n",
       "      <th>Urban_or_Rural_Area</th>\n",
       "      <th>Weather_Conditions</th>\n",
       "      <th>Vehicle_Type</th>\n",
       "    </tr>\n",
       "  </thead>\n",
       "  <tbody>\n",
       "    <tr>\n",
       "      <th>0</th>\n",
       "      <td>200701BS64157</td>\n",
       "      <td>Serious</td>\n",
       "      <td>05/06/2019</td>\n",
       "      <td>51.506187</td>\n",
       "      <td>Darkness - lights lit</td>\n",
       "      <td>Kensington and Chelsea</td>\n",
       "      <td>-0.209082</td>\n",
       "      <td>1</td>\n",
       "      <td>2</td>\n",
       "      <td>Dry</td>\n",
       "      <td>Single carriageway</td>\n",
       "      <td>Urban</td>\n",
       "      <td>Fine no high winds</td>\n",
       "      <td>Car</td>\n",
       "    </tr>\n",
       "    <tr>\n",
       "      <th>1</th>\n",
       "      <td>200701BS65737</td>\n",
       "      <td>Serious</td>\n",
       "      <td>02/07/2019</td>\n",
       "      <td>51.495029</td>\n",
       "      <td>Daylight</td>\n",
       "      <td>Kensington and Chelsea</td>\n",
       "      <td>-0.173647</td>\n",
       "      <td>1</td>\n",
       "      <td>2</td>\n",
       "      <td>Wet or damp</td>\n",
       "      <td>Single carriageway</td>\n",
       "      <td>Urban</td>\n",
       "      <td>Raining no high winds</td>\n",
       "      <td>Car</td>\n",
       "    </tr>\n",
       "    <tr>\n",
       "      <th>2</th>\n",
       "      <td>200701BS66127</td>\n",
       "      <td>Serious</td>\n",
       "      <td>26/08/2019</td>\n",
       "      <td>51.517715</td>\n",
       "      <td>Darkness - lighting unknown</td>\n",
       "      <td>Kensington and Chelsea</td>\n",
       "      <td>-0.210215</td>\n",
       "      <td>1</td>\n",
       "      <td>3</td>\n",
       "      <td>Dry</td>\n",
       "      <td>NaN</td>\n",
       "      <td>Urban</td>\n",
       "      <td>NaN</td>\n",
       "      <td>Taxi/Private hire car</td>\n",
       "    </tr>\n",
       "    <tr>\n",
       "      <th>3</th>\n",
       "      <td>200701BS66128</td>\n",
       "      <td>Serious</td>\n",
       "      <td>16/08/2019</td>\n",
       "      <td>51.495478</td>\n",
       "      <td>Daylight</td>\n",
       "      <td>Kensington and Chelsea</td>\n",
       "      <td>-0.202731</td>\n",
       "      <td>1</td>\n",
       "      <td>4</td>\n",
       "      <td>Dry</td>\n",
       "      <td>Single carriageway</td>\n",
       "      <td>Urban</td>\n",
       "      <td>Fine no high winds</td>\n",
       "      <td>Bus or coach (17 or more pass seats)</td>\n",
       "    </tr>\n",
       "    <tr>\n",
       "      <th>4</th>\n",
       "      <td>200701BS66837</td>\n",
       "      <td>Slight</td>\n",
       "      <td>03/09/2019</td>\n",
       "      <td>51.488576</td>\n",
       "      <td>Darkness - lights lit</td>\n",
       "      <td>Kensington and Chelsea</td>\n",
       "      <td>-0.192487</td>\n",
       "      <td>1</td>\n",
       "      <td>2</td>\n",
       "      <td>Dry</td>\n",
       "      <td>NaN</td>\n",
       "      <td>Urban</td>\n",
       "      <td>NaN</td>\n",
       "      <td>Other vehicle</td>\n",
       "    </tr>\n",
       "    <tr>\n",
       "      <th>...</th>\n",
       "      <td>...</td>\n",
       "      <td>...</td>\n",
       "      <td>...</td>\n",
       "      <td>...</td>\n",
       "      <td>...</td>\n",
       "      <td>...</td>\n",
       "      <td>...</td>\n",
       "      <td>...</td>\n",
       "      <td>...</td>\n",
       "      <td>...</td>\n",
       "      <td>...</td>\n",
       "      <td>...</td>\n",
       "      <td>...</td>\n",
       "      <td>...</td>\n",
       "    </tr>\n",
       "    <tr>\n",
       "      <th>660674</th>\n",
       "      <td>201091NM01760</td>\n",
       "      <td>Slight</td>\n",
       "      <td>18/02/2022</td>\n",
       "      <td>57.374005</td>\n",
       "      <td>Daylight</td>\n",
       "      <td>Highland</td>\n",
       "      <td>-3.467828</td>\n",
       "      <td>2</td>\n",
       "      <td>1</td>\n",
       "      <td>Dry</td>\n",
       "      <td>Single carriageway</td>\n",
       "      <td>Rural</td>\n",
       "      <td>Fine no high winds</td>\n",
       "      <td>Car</td>\n",
       "    </tr>\n",
       "    <tr>\n",
       "      <th>660675</th>\n",
       "      <td>201091NM01881</td>\n",
       "      <td>Slight</td>\n",
       "      <td>21/02/2022</td>\n",
       "      <td>57.232273</td>\n",
       "      <td>Darkness - no lighting</td>\n",
       "      <td>Highland</td>\n",
       "      <td>-3.809281</td>\n",
       "      <td>1</td>\n",
       "      <td>1</td>\n",
       "      <td>Frost or ice</td>\n",
       "      <td>Single carriageway</td>\n",
       "      <td>Rural</td>\n",
       "      <td>Fine no high winds</td>\n",
       "      <td>Car</td>\n",
       "    </tr>\n",
       "    <tr>\n",
       "      <th>660676</th>\n",
       "      <td>201091NM01935</td>\n",
       "      <td>Slight</td>\n",
       "      <td>23/02/2022</td>\n",
       "      <td>57.585044</td>\n",
       "      <td>Daylight</td>\n",
       "      <td>Highland</td>\n",
       "      <td>-3.862727</td>\n",
       "      <td>1</td>\n",
       "      <td>3</td>\n",
       "      <td>Frost or ice</td>\n",
       "      <td>Single carriageway</td>\n",
       "      <td>Rural</td>\n",
       "      <td>Fine no high winds</td>\n",
       "      <td>Car</td>\n",
       "    </tr>\n",
       "    <tr>\n",
       "      <th>660677</th>\n",
       "      <td>201091NM01964</td>\n",
       "      <td>Serious</td>\n",
       "      <td>23/02/2022</td>\n",
       "      <td>57.214898</td>\n",
       "      <td>Darkness - no lighting</td>\n",
       "      <td>Highland</td>\n",
       "      <td>-3.823997</td>\n",
       "      <td>1</td>\n",
       "      <td>2</td>\n",
       "      <td>Wet or damp</td>\n",
       "      <td>Single carriageway</td>\n",
       "      <td>Rural</td>\n",
       "      <td>Fine no high winds</td>\n",
       "      <td>Motorcycle over 500cc</td>\n",
       "    </tr>\n",
       "    <tr>\n",
       "      <th>660678</th>\n",
       "      <td>201091NM02142</td>\n",
       "      <td>Serious</td>\n",
       "      <td>28/02/2022</td>\n",
       "      <td>57.575210</td>\n",
       "      <td>Daylight</td>\n",
       "      <td>Highland</td>\n",
       "      <td>-3.895673</td>\n",
       "      <td>1</td>\n",
       "      <td>1</td>\n",
       "      <td>Wet or damp</td>\n",
       "      <td>Dual carriageway</td>\n",
       "      <td>Rural</td>\n",
       "      <td>Snowing no high winds</td>\n",
       "      <td>Car</td>\n",
       "    </tr>\n",
       "  </tbody>\n",
       "</table>\n",
       "<p>660679 rows × 14 columns</p>\n",
       "</div>"
      ],
      "text/plain": [
       "                Index Accident_Severity Accident Date   Latitude  \\\n",
       "0       200701BS64157           Serious    05/06/2019  51.506187   \n",
       "1       200701BS65737           Serious    02/07/2019  51.495029   \n",
       "2       200701BS66127           Serious    26/08/2019  51.517715   \n",
       "3       200701BS66128           Serious    16/08/2019  51.495478   \n",
       "4       200701BS66837            Slight    03/09/2019  51.488576   \n",
       "...               ...               ...           ...        ...   \n",
       "660674  201091NM01760            Slight    18/02/2022  57.374005   \n",
       "660675  201091NM01881            Slight    21/02/2022  57.232273   \n",
       "660676  201091NM01935            Slight    23/02/2022  57.585044   \n",
       "660677  201091NM01964           Serious    23/02/2022  57.214898   \n",
       "660678  201091NM02142           Serious    28/02/2022  57.575210   \n",
       "\n",
       "                   Light_Conditions           District Area  Longitude  \\\n",
       "0             Darkness - lights lit  Kensington and Chelsea  -0.209082   \n",
       "1                          Daylight  Kensington and Chelsea  -0.173647   \n",
       "2       Darkness - lighting unknown  Kensington and Chelsea  -0.210215   \n",
       "3                          Daylight  Kensington and Chelsea  -0.202731   \n",
       "4             Darkness - lights lit  Kensington and Chelsea  -0.192487   \n",
       "...                             ...                     ...        ...   \n",
       "660674                     Daylight                Highland  -3.467828   \n",
       "660675       Darkness - no lighting                Highland  -3.809281   \n",
       "660676                     Daylight                Highland  -3.862727   \n",
       "660677       Darkness - no lighting                Highland  -3.823997   \n",
       "660678                     Daylight                Highland  -3.895673   \n",
       "\n",
       "        Number_of_Casualties  Number_of_Vehicles Road_Surface_Conditions  \\\n",
       "0                          1                   2                     Dry   \n",
       "1                          1                   2             Wet or damp   \n",
       "2                          1                   3                     Dry   \n",
       "3                          1                   4                     Dry   \n",
       "4                          1                   2                     Dry   \n",
       "...                      ...                 ...                     ...   \n",
       "660674                     2                   1                     Dry   \n",
       "660675                     1                   1            Frost or ice   \n",
       "660676                     1                   3            Frost or ice   \n",
       "660677                     1                   2             Wet or damp   \n",
       "660678                     1                   1             Wet or damp   \n",
       "\n",
       "                 Road_Type Urban_or_Rural_Area     Weather_Conditions  \\\n",
       "0       Single carriageway               Urban     Fine no high winds   \n",
       "1       Single carriageway               Urban  Raining no high winds   \n",
       "2                      NaN               Urban                    NaN   \n",
       "3       Single carriageway               Urban     Fine no high winds   \n",
       "4                      NaN               Urban                    NaN   \n",
       "...                    ...                 ...                    ...   \n",
       "660674  Single carriageway               Rural     Fine no high winds   \n",
       "660675  Single carriageway               Rural     Fine no high winds   \n",
       "660676  Single carriageway               Rural     Fine no high winds   \n",
       "660677  Single carriageway               Rural     Fine no high winds   \n",
       "660678    Dual carriageway               Rural  Snowing no high winds   \n",
       "\n",
       "                                Vehicle_Type  \n",
       "0                                        Car  \n",
       "1                                        Car  \n",
       "2                      Taxi/Private hire car  \n",
       "3       Bus or coach (17 or more pass seats)  \n",
       "4                              Other vehicle  \n",
       "...                                      ...  \n",
       "660674                                   Car  \n",
       "660675                                   Car  \n",
       "660676                                   Car  \n",
       "660677                 Motorcycle over 500cc  \n",
       "660678                                   Car  \n",
       "\n",
       "[660679 rows x 14 columns]"
      ]
     },
     "execution_count": 3,
     "metadata": {},
     "output_type": "execute_result"
    }
   ],
   "source": [
    "accident"
   ]
  },
  {
   "cell_type": "code",
   "execution_count": null,
   "id": "f29a78d1-437b-43fd-ac9c-1d632e0b6ad5",
   "metadata": {},
   "outputs": [
    {
     "data": {
      "text/html": [
       "<div>\n",
       "<style scoped>\n",
       "    .dataframe tbody tr th:only-of-type {\n",
       "        vertical-align: middle;\n",
       "    }\n",
       "\n",
       "    .dataframe tbody tr th {\n",
       "        vertical-align: top;\n",
       "    }\n",
       "\n",
       "    .dataframe thead th {\n",
       "        text-align: right;\n",
       "    }\n",
       "</style>\n",
       "<table border=\"1\" class=\"dataframe\">\n",
       "  <thead>\n",
       "    <tr style=\"text-align: right;\">\n",
       "      <th></th>\n",
       "      <th>Index</th>\n",
       "      <th>Accident_Severity</th>\n",
       "      <th>Accident Date</th>\n",
       "      <th>Latitude</th>\n",
       "      <th>Light_Conditions</th>\n",
       "      <th>District Area</th>\n",
       "      <th>Longitude</th>\n",
       "      <th>Number_of_Casualties</th>\n",
       "      <th>Number_of_Vehicles</th>\n",
       "      <th>Road_Surface_Conditions</th>\n",
       "      <th>Road_Type</th>\n",
       "      <th>Urban_or_Rural_Area</th>\n",
       "      <th>Weather_Conditions</th>\n",
       "      <th>Vehicle_Type</th>\n",
       "    </tr>\n",
       "  </thead>\n",
       "  <tbody>\n",
       "    <tr>\n",
       "      <th>0</th>\n",
       "      <td>200701BS64157</td>\n",
       "      <td>Serious</td>\n",
       "      <td>05/06/2019</td>\n",
       "      <td>51.506187</td>\n",
       "      <td>Darkness - lights lit</td>\n",
       "      <td>Kensington and Chelsea</td>\n",
       "      <td>-0.209082</td>\n",
       "      <td>1</td>\n",
       "      <td>2</td>\n",
       "      <td>Dry</td>\n",
       "      <td>Single carriageway</td>\n",
       "      <td>Urban</td>\n",
       "      <td>Fine no high winds</td>\n",
       "      <td>Car</td>\n",
       "    </tr>\n",
       "    <tr>\n",
       "      <th>1</th>\n",
       "      <td>200701BS65737</td>\n",
       "      <td>Serious</td>\n",
       "      <td>02/07/2019</td>\n",
       "      <td>51.495029</td>\n",
       "      <td>Daylight</td>\n",
       "      <td>Kensington and Chelsea</td>\n",
       "      <td>-0.173647</td>\n",
       "      <td>1</td>\n",
       "      <td>2</td>\n",
       "      <td>Wet or damp</td>\n",
       "      <td>Single carriageway</td>\n",
       "      <td>Urban</td>\n",
       "      <td>Raining no high winds</td>\n",
       "      <td>Car</td>\n",
       "    </tr>\n",
       "    <tr>\n",
       "      <th>2</th>\n",
       "      <td>200701BS66127</td>\n",
       "      <td>Serious</td>\n",
       "      <td>26/08/2019</td>\n",
       "      <td>51.517715</td>\n",
       "      <td>Darkness - lighting unknown</td>\n",
       "      <td>Kensington and Chelsea</td>\n",
       "      <td>-0.210215</td>\n",
       "      <td>1</td>\n",
       "      <td>3</td>\n",
       "      <td>Dry</td>\n",
       "      <td>NaN</td>\n",
       "      <td>Urban</td>\n",
       "      <td>NaN</td>\n",
       "      <td>Taxi/Private hire car</td>\n",
       "    </tr>\n",
       "    <tr>\n",
       "      <th>3</th>\n",
       "      <td>200701BS66128</td>\n",
       "      <td>Serious</td>\n",
       "      <td>16/08/2019</td>\n",
       "      <td>51.495478</td>\n",
       "      <td>Daylight</td>\n",
       "      <td>Kensington and Chelsea</td>\n",
       "      <td>-0.202731</td>\n",
       "      <td>1</td>\n",
       "      <td>4</td>\n",
       "      <td>Dry</td>\n",
       "      <td>Single carriageway</td>\n",
       "      <td>Urban</td>\n",
       "      <td>Fine no high winds</td>\n",
       "      <td>Bus or coach (17 or more pass seats)</td>\n",
       "    </tr>\n",
       "    <tr>\n",
       "      <th>4</th>\n",
       "      <td>200701BS66837</td>\n",
       "      <td>Slight</td>\n",
       "      <td>03/09/2019</td>\n",
       "      <td>51.488576</td>\n",
       "      <td>Darkness - lights lit</td>\n",
       "      <td>Kensington and Chelsea</td>\n",
       "      <td>-0.192487</td>\n",
       "      <td>1</td>\n",
       "      <td>2</td>\n",
       "      <td>Dry</td>\n",
       "      <td>NaN</td>\n",
       "      <td>Urban</td>\n",
       "      <td>NaN</td>\n",
       "      <td>Other vehicle</td>\n",
       "    </tr>\n",
       "    <tr>\n",
       "      <th>...</th>\n",
       "      <td>...</td>\n",
       "      <td>...</td>\n",
       "      <td>...</td>\n",
       "      <td>...</td>\n",
       "      <td>...</td>\n",
       "      <td>...</td>\n",
       "      <td>...</td>\n",
       "      <td>...</td>\n",
       "      <td>...</td>\n",
       "      <td>...</td>\n",
       "      <td>...</td>\n",
       "      <td>...</td>\n",
       "      <td>...</td>\n",
       "      <td>...</td>\n",
       "    </tr>\n",
       "    <tr>\n",
       "      <th>533088</th>\n",
       "      <td>201001TB00796</td>\n",
       "      <td>Slight</td>\n",
       "      <td>14/11/2022</td>\n",
       "      <td>51.489306</td>\n",
       "      <td>Darkness - lights lit</td>\n",
       "      <td>Kensington and Chelsea</td>\n",
       "      <td>-0.175749</td>\n",
       "      <td>2</td>\n",
       "      <td>2</td>\n",
       "      <td>Wet or damp</td>\n",
       "      <td>Single carriageway</td>\n",
       "      <td>Urban</td>\n",
       "      <td>Fine no high winds</td>\n",
       "      <td>Van / Goods 3.5 tonnes mgw or under</td>\n",
       "    </tr>\n",
       "    <tr>\n",
       "      <th>533316</th>\n",
       "      <td>201001TE00005</td>\n",
       "      <td>Serious</td>\n",
       "      <td>17/01/2022</td>\n",
       "      <td>51.520998</td>\n",
       "      <td>Daylight</td>\n",
       "      <td>Kensington and Chelsea</td>\n",
       "      <td>-0.213258</td>\n",
       "      <td>1</td>\n",
       "      <td>1</td>\n",
       "      <td>Dry</td>\n",
       "      <td>Single carriageway</td>\n",
       "      <td>Urban</td>\n",
       "      <td>Fine no high winds</td>\n",
       "      <td>Car</td>\n",
       "    </tr>\n",
       "    <tr>\n",
       "      <th>533327</th>\n",
       "      <td>201001TE00016</td>\n",
       "      <td>Serious</td>\n",
       "      <td>02/02/2022</td>\n",
       "      <td>51.497193</td>\n",
       "      <td>Daylight</td>\n",
       "      <td>Kensington and Chelsea</td>\n",
       "      <td>-0.168230</td>\n",
       "      <td>1</td>\n",
       "      <td>2</td>\n",
       "      <td>Wet or damp</td>\n",
       "      <td>Dual carriageway</td>\n",
       "      <td>Urban</td>\n",
       "      <td>Raining no high winds</td>\n",
       "      <td>Car</td>\n",
       "    </tr>\n",
       "    <tr>\n",
       "      <th>533337</th>\n",
       "      <td>201001TE00029</td>\n",
       "      <td>Serious</td>\n",
       "      <td>12/03/2022</td>\n",
       "      <td>51.480287</td>\n",
       "      <td>Darkness - lights lit</td>\n",
       "      <td>Kensington and Chelsea</td>\n",
       "      <td>-0.185614</td>\n",
       "      <td>1</td>\n",
       "      <td>1</td>\n",
       "      <td>Dry</td>\n",
       "      <td>Single carriageway</td>\n",
       "      <td>Urban</td>\n",
       "      <td>Fine no high winds</td>\n",
       "      <td>Motorcycle over 500cc</td>\n",
       "    </tr>\n",
       "    <tr>\n",
       "      <th>533342</th>\n",
       "      <td>201001TE00038</td>\n",
       "      <td>Slight</td>\n",
       "      <td>24/03/2022</td>\n",
       "      <td>51.492639</td>\n",
       "      <td>Darkness - lights lit</td>\n",
       "      <td>Kensington and Chelsea</td>\n",
       "      <td>-0.187716</td>\n",
       "      <td>1</td>\n",
       "      <td>2</td>\n",
       "      <td>Wet or damp</td>\n",
       "      <td>Roundabout</td>\n",
       "      <td>Urban</td>\n",
       "      <td>Raining no high winds</td>\n",
       "      <td>Car</td>\n",
       "    </tr>\n",
       "  </tbody>\n",
       "</table>\n",
       "<p>2799 rows × 14 columns</p>\n",
       "</div>"
      ],
      "text/plain": [
       "                Index Accident_Severity Accident Date   Latitude  \\\n",
       "0       200701BS64157           Serious    05/06/2019  51.506187   \n",
       "1       200701BS65737           Serious    02/07/2019  51.495029   \n",
       "2       200701BS66127           Serious    26/08/2019  51.517715   \n",
       "3       200701BS66128           Serious    16/08/2019  51.495478   \n",
       "4       200701BS66837            Slight    03/09/2019  51.488576   \n",
       "...               ...               ...           ...        ...   \n",
       "533088  201001TB00796            Slight    14/11/2022  51.489306   \n",
       "533316  201001TE00005           Serious    17/01/2022  51.520998   \n",
       "533327  201001TE00016           Serious    02/02/2022  51.497193   \n",
       "533337  201001TE00029           Serious    12/03/2022  51.480287   \n",
       "533342  201001TE00038            Slight    24/03/2022  51.492639   \n",
       "\n",
       "                   Light_Conditions           District Area  Longitude  \\\n",
       "0             Darkness - lights lit  Kensington and Chelsea  -0.209082   \n",
       "1                          Daylight  Kensington and Chelsea  -0.173647   \n",
       "2       Darkness - lighting unknown  Kensington and Chelsea  -0.210215   \n",
       "3                          Daylight  Kensington and Chelsea  -0.202731   \n",
       "4             Darkness - lights lit  Kensington and Chelsea  -0.192487   \n",
       "...                             ...                     ...        ...   \n",
       "533088        Darkness - lights lit  Kensington and Chelsea  -0.175749   \n",
       "533316                     Daylight  Kensington and Chelsea  -0.213258   \n",
       "533327                     Daylight  Kensington and Chelsea  -0.168230   \n",
       "533337        Darkness - lights lit  Kensington and Chelsea  -0.185614   \n",
       "533342        Darkness - lights lit  Kensington and Chelsea  -0.187716   \n",
       "\n",
       "        Number_of_Casualties  Number_of_Vehicles Road_Surface_Conditions  \\\n",
       "0                          1                   2                     Dry   \n",
       "1                          1                   2             Wet or damp   \n",
       "2                          1                   3                     Dry   \n",
       "3                          1                   4                     Dry   \n",
       "4                          1                   2                     Dry   \n",
       "...                      ...                 ...                     ...   \n",
       "533088                     2                   2             Wet or damp   \n",
       "533316                     1                   1                     Dry   \n",
       "533327                     1                   2             Wet or damp   \n",
       "533337                     1                   1                     Dry   \n",
       "533342                     1                   2             Wet or damp   \n",
       "\n",
       "                 Road_Type Urban_or_Rural_Area     Weather_Conditions  \\\n",
       "0       Single carriageway               Urban     Fine no high winds   \n",
       "1       Single carriageway               Urban  Raining no high winds   \n",
       "2                      NaN               Urban                    NaN   \n",
       "3       Single carriageway               Urban     Fine no high winds   \n",
       "4                      NaN               Urban                    NaN   \n",
       "...                    ...                 ...                    ...   \n",
       "533088  Single carriageway               Urban     Fine no high winds   \n",
       "533316  Single carriageway               Urban     Fine no high winds   \n",
       "533327    Dual carriageway               Urban  Raining no high winds   \n",
       "533337  Single carriageway               Urban     Fine no high winds   \n",
       "533342          Roundabout               Urban  Raining no high winds   \n",
       "\n",
       "                                Vehicle_Type  \n",
       "0                                        Car  \n",
       "1                                        Car  \n",
       "2                      Taxi/Private hire car  \n",
       "3       Bus or coach (17 or more pass seats)  \n",
       "4                              Other vehicle  \n",
       "...                                      ...  \n",
       "533088   Van / Goods 3.5 tonnes mgw or under  \n",
       "533316                                   Car  \n",
       "533327                                   Car  \n",
       "533337                 Motorcycle over 500cc  \n",
       "533342                                   Car  \n",
       "\n",
       "[2799 rows x 14 columns]"
      ]
     },
     "execution_count": 4,
     "metadata": {},
     "output_type": "execute_result"
    }
   ],
   "source": [
    "accident[accident['District Area'] == 'Kensington and Chelsea']"
   ]
  },
  {
   "cell_type": "code",
   "execution_count": null,
   "id": "8ea90981-3da4-4676-a359-ce0ab6235b9d",
   "metadata": {},
   "outputs": [
    {
     "data": {
      "text/plain": [
       "Urban_or_Rural_Area\n",
       "Urban          421663\n",
       "Rural          238990\n",
       "Unallocated        11\n",
       "Name: count, dtype: int64"
      ]
     },
     "execution_count": 5,
     "metadata": {},
     "output_type": "execute_result"
    }
   ],
   "source": [
    "accident['Urban_or_Rural_Area'].value_counts()"
   ]
  },
  {
   "cell_type": "code",
   "execution_count": null,
   "id": "398b9a5c-2254-44e3-af19-250727be643f",
   "metadata": {},
   "outputs": [
    {
     "data": {
      "text/plain": [
       "Index                          0\n",
       "Accident_Severity              0\n",
       "Accident Date                  0\n",
       "Latitude                      25\n",
       "Light_Conditions               0\n",
       "District Area                  0\n",
       "Longitude                     26\n",
       "Number_of_Casualties           0\n",
       "Number_of_Vehicles             0\n",
       "Road_Surface_Conditions      726\n",
       "Road_Type                   4520\n",
       "Urban_or_Rural_Area           15\n",
       "Weather_Conditions         14128\n",
       "Vehicle_Type                   0\n",
       "dtype: int64"
      ]
     },
     "execution_count": 6,
     "metadata": {},
     "output_type": "execute_result"
    }
   ],
   "source": [
    "accident.isnull().sum()"
   ]
  },
  {
   "cell_type": "code",
   "execution_count": null,
   "id": "ab10f9a3-4e79-477f-81f1-fec65905a5e7",
   "metadata": {},
   "outputs": [
    {
     "data": {
      "text/plain": [
       "Index                       object\n",
       "Accident_Severity           object\n",
       "Accident Date               object\n",
       "Latitude                   float64\n",
       "Light_Conditions            object\n",
       "District Area               object\n",
       "Longitude                  float64\n",
       "Number_of_Casualties         int64\n",
       "Number_of_Vehicles           int64\n",
       "Road_Surface_Conditions     object\n",
       "Road_Type                   object\n",
       "Urban_or_Rural_Area         object\n",
       "Weather_Conditions          object\n",
       "Vehicle_Type                object\n",
       "dtype: object"
      ]
     },
     "execution_count": 7,
     "metadata": {},
     "output_type": "execute_result"
    }
   ],
   "source": [
    "accident.dtypes"
   ]
  },
  {
   "cell_type": "markdown",
   "id": "620a3eb0-25a0-47bb-a3d1-11df84f4efef",
   "metadata": {},
   "source": [
    "<h1>Filling the missing data using fillna</h1>"
   ]
  },
  {
   "cell_type": "code",
   "execution_count": null,
   "id": "240ef682-823b-448d-af42-66f1655cb0b0",
   "metadata": {},
   "outputs": [],
   "source": [
    "accident['Latitude'] = accident['Latitude'].fillna('unknown')"
   ]
  },
  {
   "cell_type": "code",
   "execution_count": null,
   "id": "0e88c952-8079-45d3-8772-6c3fc155a7d3",
   "metadata": {},
   "outputs": [],
   "source": [
    "accident['Longitude'] = accident['Longitude'].fillna('unknown')"
   ]
  },
  {
   "cell_type": "code",
   "execution_count": null,
   "id": "7dcf5fa2-a915-4b9c-8f92-66a5f445d6af",
   "metadata": {},
   "outputs": [],
   "source": [
    "accident['Road_Surface_Conditions'] = accident['Road_Surface_Conditions'].fillna('unknown')"
   ]
  },
  {
   "cell_type": "code",
   "execution_count": null,
   "id": "9934e72e-de4a-4cd2-9f36-c955b8e9a03d",
   "metadata": {},
   "outputs": [],
   "source": [
    "accident['Road_Type'] = accident['Road_Type'].fillna('unknown')"
   ]
  },
  {
   "cell_type": "code",
   "execution_count": null,
   "id": "f2211347-9290-4b86-adc9-84311b3c30b4",
   "metadata": {},
   "outputs": [],
   "source": [
    "accident['Urban_or_Rural_Area'] = accident['Urban_or_Rural_Area'].fillna('unknown')"
   ]
  },
  {
   "cell_type": "code",
   "execution_count": null,
   "id": "cead8715-1fac-4684-a741-a77002e98abc",
   "metadata": {},
   "outputs": [],
   "source": [
    "accident['Weather_Conditions'] = accident['Weather_Conditions'].fillna('unknown')"
   ]
  },
  {
   "cell_type": "markdown",
   "id": "4fd749cb-2388-4b54-a6b7-d268976e8e61",
   "metadata": {},
   "source": [
    "<h1>Changing data types into proper ones</h1>"
   ]
  },
  {
   "cell_type": "code",
   "execution_count": null,
   "id": "e11bd54f-dce3-476c-b3ef-5261e17b5df6",
   "metadata": {},
   "outputs": [],
   "source": [
    "accident['Latitude'] = accident['Latitude'].astype('category')"
   ]
  },
  {
   "cell_type": "code",
   "execution_count": null,
   "id": "6b54dabb-28df-495d-8726-4b11dad67f1f",
   "metadata": {},
   "outputs": [],
   "source": [
    "accident['Longitude'] = accident['Longitude'].astype('category')"
   ]
  },
  {
   "cell_type": "code",
   "execution_count": null,
   "id": "3fa809d3-e508-4210-856d-4794563eebf3",
   "metadata": {},
   "outputs": [],
   "source": [
    "accident['Accident_Severity'] = accident['Accident_Severity'].astype('category')"
   ]
  },
  {
   "cell_type": "code",
   "execution_count": null,
   "id": "de97b806-d945-4823-ae1c-6cb9efcdbc78",
   "metadata": {},
   "outputs": [],
   "source": [
    "accident['Light_Conditions'] = accident['Light_Conditions'].astype('category')"
   ]
  },
  {
   "cell_type": "code",
   "execution_count": null,
   "id": "f69ab8b5-6c5a-4b86-86e5-7769837e41d8",
   "metadata": {},
   "outputs": [],
   "source": [
    "accident['District Area'] = accident['District Area'].astype('category')"
   ]
  },
  {
   "cell_type": "code",
   "execution_count": null,
   "id": "bc3ab45c-ee70-4a76-ad92-b0a8530ce881",
   "metadata": {},
   "outputs": [],
   "source": [
    "accident['Road_Surface_Conditions'] = accident['Road_Surface_Conditions'].astype('category')"
   ]
  },
  {
   "cell_type": "code",
   "execution_count": null,
   "id": "50ee2da1-f248-42ae-a6b1-144031357a72",
   "metadata": {},
   "outputs": [],
   "source": [
    "accident['Road_Type'] = accident['Road_Type'].astype('category')"
   ]
  },
  {
   "cell_type": "code",
   "execution_count": null,
   "id": "b9f335b7-3a0f-4564-8561-926f3f10e6b2",
   "metadata": {},
   "outputs": [],
   "source": [
    "accident['Urban_or_Rural_Area'] = accident['Urban_or_Rural_Area'].astype('category')"
   ]
  },
  {
   "cell_type": "code",
   "execution_count": null,
   "id": "fd6b623a-28b3-458a-87f6-b19e0f14d6c2",
   "metadata": {},
   "outputs": [],
   "source": [
    "accident['Vehicle_Type'] = accident['Vehicle_Type'].astype('category')"
   ]
  },
  {
   "cell_type": "code",
   "execution_count": null,
   "id": "35ae75a0-8510-4abc-948a-a542d1b002fb",
   "metadata": {},
   "outputs": [],
   "source": [
    "accident['Weather_Conditions'] = accident['Weather_Conditions'].astype('category')"
   ]
  },
  {
   "cell_type": "markdown",
   "id": "ca51c941-7de1-4059-9d8d-4918ad90ea33",
   "metadata": {},
   "source": [
    "<h1>Converting Date Field into DATE TIME data type</h1>"
   ]
  },
  {
   "cell_type": "code",
   "execution_count": null,
   "id": "c59ffec1-15a1-4267-a50b-30b108cc5a05",
   "metadata": {},
   "outputs": [],
   "source": [
    "accident['Accident Date'] = accident['Accident Date'].astype('str')\n",
    "accident.dtypes\n",
    "#remove spaces like 20 / 02 / 2025\n",
    "accident['Accident Date'] = accident['Accident Date'].str.strip()\n",
    "#replace / with -\n",
    "accident['Accident Date'] = accident['Accident Date'].str.replace('/', '-')"
   ]
  },
  {
   "cell_type": "code",
   "execution_count": null,
   "id": "6315b345-4b65-4c6c-b61a-a23b5b29203d",
   "metadata": {},
   "outputs": [],
   "source": [
    "accident['Accident Date'] = pd.to_datetime(accident['Accident Date'], dayfirst = True, errors = 'coerce')"
   ]
  },
  {
   "cell_type": "markdown",
   "id": "51334c61-ddd6-496b-819e-41dc0e6140f9",
   "metadata": {},
   "source": [
    "<h1>Checking if there is still a null value</h1>"
   ]
  },
  {
   "cell_type": "code",
   "execution_count": null,
   "id": "f91a55a1-5d67-4836-a591-ed6c04dae8b1",
   "metadata": {},
   "outputs": [
    {
     "data": {
      "text/plain": [
       "Index                      0\n",
       "Accident_Severity          0\n",
       "Accident Date              0\n",
       "Latitude                   0\n",
       "Light_Conditions           0\n",
       "District Area              0\n",
       "Longitude                  0\n",
       "Number_of_Casualties       0\n",
       "Number_of_Vehicles         0\n",
       "Road_Surface_Conditions    0\n",
       "Road_Type                  0\n",
       "Urban_or_Rural_Area        0\n",
       "Weather_Conditions         0\n",
       "Vehicle_Type               0\n",
       "dtype: int64"
      ]
     },
     "execution_count": 33,
     "metadata": {},
     "output_type": "execute_result"
    }
   ],
   "source": [
    "accident.isnull().sum()"
   ]
  },
  {
   "cell_type": "markdown",
   "id": "8e234767-1f0e-42fc-b83f-406d0ee6c16e",
   "metadata": {},
   "source": [
    "<h1>Adding new data columns</h1>"
   ]
  },
  {
   "cell_type": "code",
   "execution_count": null,
   "id": "6e8cdeec-c51e-4dff-82ac-c2f9acc212e8",
   "metadata": {},
   "outputs": [],
   "source": [
    "accident ['Year'] = accident['Accident Date'].dt.year\n",
    "accident ['Month'] = accident['Accident Date'].dt.month\n",
    "accident ['DayOfWeek'] = accident['Accident Date'].dt.dayofweek"
   ]
  },
  {
   "cell_type": "code",
   "execution_count": null,
   "id": "15ffcbeb-49bd-4034-80b3-c3cefc8e6fcc",
   "metadata": {},
   "outputs": [
    {
     "data": {
      "text/plain": [
       "Index                      0\n",
       "Accident_Severity          0\n",
       "Accident Date              0\n",
       "Latitude                   0\n",
       "Light_Conditions           0\n",
       "District Area              0\n",
       "Longitude                  0\n",
       "Number_of_Casualties       0\n",
       "Number_of_Vehicles         0\n",
       "Road_Surface_Conditions    0\n",
       "Road_Type                  0\n",
       "Urban_or_Rural_Area        0\n",
       "Weather_Conditions         0\n",
       "Vehicle_Type               0\n",
       "Year                       0\n",
       "Month                      0\n",
       "DayOfWeek                  0\n",
       "dtype: int64"
      ]
     },
     "execution_count": 36,
     "metadata": {},
     "output_type": "execute_result"
    }
   ],
   "source": [
    "accident.isnull().sum()"
   ]
  },
  {
   "cell_type": "markdown",
   "id": "f4259344-747d-4254-808e-9cb0e20e54dd",
   "metadata": {},
   "source": [
    "<h1>QUESTION NO.1</h1>\n",
    "\n",
    "<h2>What district area has  most occured accidents?</h2>"
   ]
  },
  {
   "cell_type": "code",
   "execution_count": null,
   "id": "7657e3a7-2283-44ec-a8ee-533342f92949",
   "metadata": {},
   "outputs": [
    {
     "data": {
      "text/plain": [
       "District Area\n",
       "Birmingham            13491\n",
       "Leeds                  8898\n",
       "Manchester             6720\n",
       "Bradford               6212\n",
       "Sheffield              5710\n",
       "                      ...  \n",
       "Berwick-upon-Tweed      153\n",
       "Teesdale                142\n",
       "Shetland Islands        133\n",
       "Orkney Islands          117\n",
       "Clackmannanshire         91\n",
       "Name: count, Length: 422, dtype: int64"
      ]
     },
     "execution_count": 26,
     "metadata": {},
     "output_type": "execute_result"
    }
   ],
   "source": [
    "accident['District Area'].value_counts()"
   ]
  },
  {
   "cell_type": "markdown",
   "id": "93a20ec6-901d-4e0a-b11b-a68b132cf749",
   "metadata": {},
   "source": [
    "<h1>INSIGHT NO.1</h1>\n",
    "\n",
    "<h2>The data shows that 13491 of accidents occured in Birmingham</h2>"
   ]
  },
  {
   "cell_type": "markdown",
   "id": "4285b74d-3564-45a2-b3ea-e20ab12b1723",
   "metadata": {},
   "source": [
    "<h1>QUESTION NO.2</h1>\n",
    "\n",
    "<h2>What type of vehicle is commonly involve in the accidents?</h2>"
   ]
  },
  {
   "cell_type": "code",
   "execution_count": null,
   "id": "97112058-2641-4a22-be1c-cebd7632b026",
   "metadata": {},
   "outputs": [],
   "source": [
    "accident_vehicle = accident['Vehicle_Type'].mode()[0]"
   ]
  },
  {
   "cell_type": "code",
   "execution_count": null,
   "id": "1175f9d6-0d1a-4bed-86f9-448bd3b578af",
   "metadata": {},
   "outputs": [
    {
     "data": {
      "text/plain": [
       "'Car'"
      ]
     },
     "execution_count": 28,
     "metadata": {},
     "output_type": "execute_result"
    }
   ],
   "source": [
    "accident_vehicle"
   ]
  },
  {
   "cell_type": "code",
   "execution_count": null,
   "id": "c07cc92f-cffd-4b8b-bba6-a7edab8203f0",
   "metadata": {},
   "outputs": [
    {
     "ename": "NameError",
     "evalue": "name 'accident' is not defined",
     "output_type": "error",
     "traceback": [
      "\u001b[1;31m---------------------------------------------------------------------------\u001b[0m",
      "\u001b[1;31mNameError\u001b[0m                                 Traceback (most recent call last)",
      "Cell \u001b[1;32mIn[8], line 1\u001b[0m\n\u001b[1;32m----> 1\u001b[0m \u001b[43maccident\u001b[49m[accident[\u001b[38;5;124m'\u001b[39m\u001b[38;5;124mVehicle_Type\u001b[39m\u001b[38;5;124m'\u001b[39m] \u001b[38;5;241m==\u001b[39m \u001b[38;5;124m'\u001b[39m\u001b[38;5;124mCar\u001b[39m\u001b[38;5;124m'\u001b[39m]\u001b[38;5;241m.\u001b[39mvalue_counts()\n",
      "\u001b[1;31mNameError\u001b[0m: name 'accident' is not defined"
     ]
    }
   ],
   "source": [
    "accident[accident['Vehicle_Type'] == 'Car'].value_counts()"
   ]
  },
  {
   "cell_type": "markdown",
   "id": "1e513ad8-4e2e-48f8-b004-ee27b08b4b98",
   "metadata": {},
   "source": [
    "<h1>INSIGHT NO.2</h1>\n",
    "\n",
    "<h2>The data shows that most of the accidents involved cars</h2>"
   ]
  },
  {
   "cell_type": "markdown",
   "id": "90227014-3e36-4143-972b-889532094e6d",
   "metadata": {},
   "source": [
    "<h1>QUESTION NO.3</h1>\n",
    "\n",
    "<h2>Does a bad weather significantly increase the risk of having a severe accident?</h2>"
   ]
  },
  {
   "cell_type": "code",
   "execution_count": null,
   "id": "a7028857-f6b1-4dff-9fb2-cc412d090312",
   "metadata": {},
   "outputs": [
    {
     "ename": "NameError",
     "evalue": "name 'accident' is not defined",
     "output_type": "error",
     "traceback": [
      "\u001b[1;31m---------------------------------------------------------------------------\u001b[0m",
      "\u001b[1;31mNameError\u001b[0m                                 Traceback (most recent call last)",
      "Cell \u001b[1;32mIn[4], line 1\u001b[0m\n\u001b[1;32m----> 1\u001b[0m \u001b[43maccident\u001b[49m\u001b[38;5;241m.\u001b[39mgroupby([\u001b[38;5;124m\"\u001b[39m\u001b[38;5;124mWeather_Conditions\u001b[39m\u001b[38;5;124m\"\u001b[39m, \u001b[38;5;124m\"\u001b[39m\u001b[38;5;124mAccident_Severity\u001b[39m\u001b[38;5;124m\"\u001b[39m])\u001b[38;5;241m.\u001b[39msize()\u001b[38;5;241m.\u001b[39munstack()\n",
      "\u001b[1;31mNameError\u001b[0m: name 'accident' is not defined"
     ]
    }
   ],
   "source": [
    "accident.groupby([\"Weather_Conditions\", \"Accident_Severity\"]).size().unstack()"
   ]
  },
  {
   "cell_type": "markdown",
   "id": "730ec589",
   "metadata": {},
   "source": [
    "<h1>INSIGHT NO.3</h1>\n",
    "\n",
    "<h2>The data shows </h2>"
   ]
  },
  {
   "cell_type": "markdown",
   "id": "255fd646",
   "metadata": {},
   "source": [
    "<h1>QUESTION NO.4</h1>\n",
    "\n",
    "<h2>Which day of the week has the most prone to accidents?</h2>"
   ]
  },
  {
   "cell_type": "code",
   "execution_count": null,
   "id": "31667a2d",
   "metadata": {},
   "outputs": [
    {
     "ename": "NameError",
     "evalue": "name 'accident' is not defined",
     "output_type": "error",
     "traceback": [
      "\u001b[1;31m---------------------------------------------------------------------------\u001b[0m",
      "\u001b[1;31mNameError\u001b[0m                                 Traceback (most recent call last)",
      "Cell \u001b[1;32mIn[3], line 1\u001b[0m\n\u001b[1;32m----> 1\u001b[0m \u001b[43maccident\u001b[49m\u001b[38;5;241m.\u001b[39mgroupby([\u001b[38;5;124m\"\u001b[39m\u001b[38;5;124mDayOfWeek\u001b[39m\u001b[38;5;124m\"\u001b[39m])\u001b[38;5;241m.\u001b[39msize()\u001b[38;5;241m.\u001b[39munstack()\n",
      "\u001b[1;31mNameError\u001b[0m: name 'accident' is not defined"
     ]
    }
   ],
   "source": [
    "accident.groupby([\"DayOfWeek\"]).size().unstack()"
   ]
  },
  {
   "cell_type": "markdown",
   "id": "798d75fd",
   "metadata": {},
   "source": [
    "<h1>INSIGHT NO.4</h1>\n",
    "\n",
    "<h2></h2>"
   ]
  },
  {
   "cell_type": "markdown",
   "id": "80ce1bd0",
   "metadata": {},
   "source": [
    "<h1>QUESTION NO.5</h1>\n",
    "\n",
    "<h2>Do more vehicles involved in an accident lead to more Casualties?</h2>"
   ]
  },
  {
   "cell_type": "code",
   "execution_count": null,
   "id": "82519ee7",
   "metadata": {},
   "outputs": [],
   "source": [
    "accident[[\"Number_of_Vehicles\", \"Number_of_Casualties\"]].corr()"
   ]
  },
  {
   "cell_type": "markdown",
   "id": "2abc1e37",
   "metadata": {},
   "source": [
    "<h1>INSIGHT NO.5</h1>\n",
    "\n",
    "<h2></h2>"
   ]
  },
  {
   "cell_type": "markdown",
   "id": "a7899856",
   "metadata": {},
   "source": [
    "<h1>QUESTION NO.6</h1>\n",
    "\n",
    "<h2>What types of road have the most occuring fatal accidents</h2>"
   ]
  },
  {
   "cell_type": "code",
   "execution_count": null,
   "id": "fe293ce4",
   "metadata": {},
   "outputs": [
    {
     "ename": "NameError",
     "evalue": "name 'accident' is not defined",
     "output_type": "error",
     "traceback": [
      "\u001b[1;31m---------------------------------------------------------------------------\u001b[0m",
      "\u001b[1;31mNameError\u001b[0m                                 Traceback (most recent call last)",
      "Cell \u001b[1;32mIn[7], line 1\u001b[0m\n\u001b[1;32m----> 1\u001b[0m \u001b[43maccident\u001b[49m[accident[\u001b[38;5;124m\"\u001b[39m\u001b[38;5;124mAccident_Severity\u001b[39m\u001b[38;5;124m\"\u001b[39m] \u001b[38;5;241m==\u001b[39m \u001b[38;5;124m\"\u001b[39m\u001b[38;5;124mFatal\u001b[39m\u001b[38;5;124m\"\u001b[39m] [\u001b[38;5;124m\"\u001b[39m\u001b[38;5;124mRoad_Type\u001b[39m\u001b[38;5;124m\"\u001b[39m]\u001b[38;5;241m.\u001b[39mvalue_counts()\n",
      "\u001b[1;31mNameError\u001b[0m: name 'accident' is not defined"
     ]
    }
   ],
   "source": [
    "accident[accident[\"Accident_Severity\"] == \"Fatal\"] [\"Road_Type\"].value_counts()"
   ]
  },
  {
   "cell_type": "markdown",
   "id": "46fd8440",
   "metadata": {},
   "source": [
    "<h1>INSIGHT NO.6</h1>\n",
    "\n",
    "<h2></h2>"
   ]
  },
  {
   "cell_type": "markdown",
   "id": "c255b75e",
   "metadata": {},
   "source": [
    "<h1>QUESTION NO.7</h1>\n",
    "\n",
    "<h2>What types of road have the most occuring fatal accidents</h2>"
   ]
  },
  {
   "cell_type": "markdown",
   "id": "32bbffe9",
   "metadata": {},
   "source": [
    "<h1>INSIGHT NO.7</h1>\n",
    "\n",
    "<h2></h2>"
   ]
  }
 ],
 "metadata": {
  "kernelspec": {
   "display_name": "Python 3",
   "language": "python",
   "name": "python3"
  },
  "language_info": {
   "codemirror_mode": {
    "name": "ipython",
    "version": 3
   },
   "file_extension": ".py",
   "mimetype": "text/x-python",
   "name": "python",
   "nbconvert_exporter": "python",
   "pygments_lexer": "ipython3",
   "version": "3.10.11"
  }
 },
 "nbformat": 4,
 "nbformat_minor": 5
}
